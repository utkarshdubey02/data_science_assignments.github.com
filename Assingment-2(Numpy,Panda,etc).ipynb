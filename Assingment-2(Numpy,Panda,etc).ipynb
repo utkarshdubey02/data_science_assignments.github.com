{
 "cells": [
  {
   "cell_type": "markdown",
   "metadata": {},
   "source": [
    "# 2.1. Problem Statement: Numpy"
   ]
  },
  {
   "cell_type": "markdown",
   "metadata": {},
   "source": [
    "Problem Statement 1:-Write a function so that the columns of the output matrix are powers of\n",
    "the input vector.\n",
    "The order of the powers is determined by the increasing boolean argument. Specifically, when\n",
    "increasing is False, the i-th output column is the input vector raised element-wise to the power\n",
    "of N - i - 1.\n"
   ]
  },
  {
   "cell_type": "code",
   "execution_count": 1,
   "metadata": {
    "scrolled": true
   },
   "outputs": [
    {
     "name": "stdout",
     "output_type": "stream",
     "text": [
      "[[ 1  1  1]\n",
      " [ 4  2  1]\n",
      " [ 9  3  1]\n",
      " [25  5  1]]\n"
     ]
    }
   ],
   "source": [
    "import numpy as np\n",
    "\n",
    "def func1(x,N):\n",
    "    return np.column_stack([x**(N-i-1) for i in range(N)])\n",
    "\n",
    "print(func1(np.array([1, 2, 3, 5]),3)) "
   ]
  },
  {
   "cell_type": "markdown",
   "metadata": {},
   "source": [
    "Problem Statement 2:- Given a sequence of n values x1, x2, ..., xn and a window size k>0, the k-th moving average\n",
    "of the given sequence is defined as follows:\n",
    "The moving average sequence has n-k+1 elements as shown below.\n",
    "\n",
    "The moving averages with k=4 of a ten-value sequence (n=10) is shown below\n",
    "\n",
    "i 1 2 3 4 5 6 7 8 9 10\n",
    "===== == == == == == == == == == ==\n",
    "Input 10 20 30 40 50 60 70 80 90 100\n",
    "y1 25 = (10+20+30+40)/4\n",
    "y2 35 = (20+30+40+50)/4\n",
    "y3 45 = (30+40+50+60)/4\n",
    "y4 55 = (40+50+60+70)/4\n",
    "y5 65 = (50+60+70+80)/4\n",
    "y6 75 = (60+70+80+90)/4\n",
    "y7 85 = (70+80+90+100)/4\n",
    "\n",
    "Thus, the moving average sequence has n-k+1=10-4+1=7 values.\n",
    "\n",
    "Question: Write a function to find moving average in an array over a window:\n",
    "Test it over [3, 5, 7, 2, 8, 10, 11, 65, 72, 81, 99, 100, 150] and window of 3."
   ]
  },
  {
   "cell_type": "code",
   "execution_count": 2,
   "metadata": {},
   "outputs": [
    {
     "data": {
      "text/plain": [
       "array([ 4.66666667,  5.66666667,  6.66666667,  9.66666667, 28.66666667,\n",
       "       49.33333333, 72.66666667, 84.        , 93.33333333])"
      ]
     },
     "execution_count": 2,
     "metadata": {},
     "output_type": "execute_result"
    }
   ],
   "source": [
    "import numpy as np\n",
    "def moving_average(a, n=3) :\n",
    "    ret = np.cumsum(a, dtype=float)\n",
    "    ret[n:] = ret[n:] - ret[:-n]\n",
    "    return ret[n: - 1:] / n\n",
    "\n",
    "x = np.array([3, 5, 7, 2, 8, 10, 11, 65, 72, 81, 99, 100, 150])\n",
    "moving_average(x)"
   ]
  },
  {
   "cell_type": "markdown",
   "metadata": {},
   "source": [
    "# 2.2. Problem Statement: Pandas"
   ]
  },
  {
   "cell_type": "markdown",
   "metadata": {},
   "source": [
    "### Problem Statement 1"
   ]
  },
  {
   "cell_type": "markdown",
   "metadata": {},
   "source": [
    "Problem 1:- How-to-count-distance-to-the-previous-zero\n",
    "For each value, count the difference of the distance from the previous zero (or the start\n",
    "of the Series, whichever is closer) and if there are no previous zeros, print the position\n",
    "\n",
    "Consider a DataFrame df where there is an integer column {'X'[7, 2, 0, 3, 4, 2, 5, 0, 3, 4]}\n",
    "The values should therefore be [1, 2, 0, 1, 2, 3, 4, 0, 1, 2]. Make this a new column 'Y'.\n",
    "\n",
    "import pandas as pd\n",
    "\n",
    "df = pd.DataFrame({'X': [7, 2, 0, 3, 4, 2, 5, 0, 3, 4]})"
   ]
  },
  {
   "cell_type": "code",
   "execution_count": 3,
   "metadata": {},
   "outputs": [
    {
     "data": {
      "text/plain": [
       "0    1.0\n",
       "1    2.0\n",
       "2    0.0\n",
       "3    1.0\n",
       "4    2.0\n",
       "5    3.0\n",
       "6    4.0\n",
       "7    0.0\n",
       "8    1.0\n",
       "9    2.0\n",
       "dtype: float64"
      ]
     },
     "execution_count": 3,
     "metadata": {},
     "output_type": "execute_result"
    }
   ],
   "source": [
    "import numpy as np\n",
    "import pandas as pd\n",
    "\n",
    "s = pd.Series([7,2,0,3,4,2,5,0,3,4])\n",
    "x = (s != 0).cumsum()\n",
    "y = x != x.shift()\n",
    "y.groupby((y != y.shift()).cumsum()).cumsum()\n"
   ]
  },
  {
   "cell_type": "markdown",
   "metadata": {},
   "source": [
    "Problem 2:- Create a DatetimeIndex that contains each business day of 2015 and use it to index a\n",
    "Series of random numbers."
   ]
  },
  {
   "cell_type": "code",
   "execution_count": 4,
   "metadata": {},
   "outputs": [
    {
     "data": {
      "text/html": [
       "<div>\n",
       "<style scoped>\n",
       "    .dataframe tbody tr th:only-of-type {\n",
       "        vertical-align: middle;\n",
       "    }\n",
       "\n",
       "    .dataframe tbody tr th {\n",
       "        vertical-align: top;\n",
       "    }\n",
       "\n",
       "    .dataframe thead th {\n",
       "        text-align: right;\n",
       "    }\n",
       "</style>\n",
       "<table border=\"1\" class=\"dataframe\">\n",
       "  <thead>\n",
       "    <tr style=\"text-align: right;\">\n",
       "      <th></th>\n",
       "      <th>0</th>\n",
       "    </tr>\n",
       "  </thead>\n",
       "  <tbody>\n",
       "    <tr>\n",
       "      <th>2015-01-01</th>\n",
       "      <td>-0.682880</td>\n",
       "    </tr>\n",
       "    <tr>\n",
       "      <th>2015-01-02</th>\n",
       "      <td>0.076786</td>\n",
       "    </tr>\n",
       "    <tr>\n",
       "      <th>2015-01-05</th>\n",
       "      <td>-0.577732</td>\n",
       "    </tr>\n",
       "    <tr>\n",
       "      <th>2015-01-06</th>\n",
       "      <td>1.086926</td>\n",
       "    </tr>\n",
       "    <tr>\n",
       "      <th>2015-01-07</th>\n",
       "      <td>-0.013960</td>\n",
       "    </tr>\n",
       "    <tr>\n",
       "      <th>2015-01-08</th>\n",
       "      <td>0.283578</td>\n",
       "    </tr>\n",
       "    <tr>\n",
       "      <th>2015-01-09</th>\n",
       "      <td>-0.012099</td>\n",
       "    </tr>\n",
       "    <tr>\n",
       "      <th>2015-01-12</th>\n",
       "      <td>0.147540</td>\n",
       "    </tr>\n",
       "    <tr>\n",
       "      <th>2015-01-13</th>\n",
       "      <td>-0.137358</td>\n",
       "    </tr>\n",
       "    <tr>\n",
       "      <th>2015-01-14</th>\n",
       "      <td>-0.451641</td>\n",
       "    </tr>\n",
       "    <tr>\n",
       "      <th>2015-01-15</th>\n",
       "      <td>-0.588356</td>\n",
       "    </tr>\n",
       "    <tr>\n",
       "      <th>2015-01-16</th>\n",
       "      <td>0.874261</td>\n",
       "    </tr>\n",
       "    <tr>\n",
       "      <th>2015-01-19</th>\n",
       "      <td>-1.595330</td>\n",
       "    </tr>\n",
       "    <tr>\n",
       "      <th>2015-01-20</th>\n",
       "      <td>-0.335436</td>\n",
       "    </tr>\n",
       "    <tr>\n",
       "      <th>2015-01-21</th>\n",
       "      <td>-0.720995</td>\n",
       "    </tr>\n",
       "    <tr>\n",
       "      <th>2015-01-22</th>\n",
       "      <td>-0.557433</td>\n",
       "    </tr>\n",
       "    <tr>\n",
       "      <th>2015-01-23</th>\n",
       "      <td>1.994685</td>\n",
       "    </tr>\n",
       "    <tr>\n",
       "      <th>2015-01-26</th>\n",
       "      <td>0.512276</td>\n",
       "    </tr>\n",
       "    <tr>\n",
       "      <th>2015-01-27</th>\n",
       "      <td>-0.399778</td>\n",
       "    </tr>\n",
       "    <tr>\n",
       "      <th>2015-01-28</th>\n",
       "      <td>0.938259</td>\n",
       "    </tr>\n",
       "    <tr>\n",
       "      <th>2015-01-29</th>\n",
       "      <td>-0.762814</td>\n",
       "    </tr>\n",
       "    <tr>\n",
       "      <th>2015-01-30</th>\n",
       "      <td>0.699832</td>\n",
       "    </tr>\n",
       "    <tr>\n",
       "      <th>2015-02-02</th>\n",
       "      <td>0.862499</td>\n",
       "    </tr>\n",
       "    <tr>\n",
       "      <th>2015-02-03</th>\n",
       "      <td>-0.213746</td>\n",
       "    </tr>\n",
       "    <tr>\n",
       "      <th>2015-02-04</th>\n",
       "      <td>0.157768</td>\n",
       "    </tr>\n",
       "    <tr>\n",
       "      <th>2015-02-05</th>\n",
       "      <td>0.596426</td>\n",
       "    </tr>\n",
       "    <tr>\n",
       "      <th>2015-02-06</th>\n",
       "      <td>0.980761</td>\n",
       "    </tr>\n",
       "    <tr>\n",
       "      <th>2015-02-09</th>\n",
       "      <td>-0.349040</td>\n",
       "    </tr>\n",
       "    <tr>\n",
       "      <th>2015-02-10</th>\n",
       "      <td>-2.882464</td>\n",
       "    </tr>\n",
       "    <tr>\n",
       "      <th>2015-02-11</th>\n",
       "      <td>-1.571571</td>\n",
       "    </tr>\n",
       "    <tr>\n",
       "      <th>...</th>\n",
       "      <td>...</td>\n",
       "    </tr>\n",
       "    <tr>\n",
       "      <th>2015-11-20</th>\n",
       "      <td>0.520539</td>\n",
       "    </tr>\n",
       "    <tr>\n",
       "      <th>2015-11-23</th>\n",
       "      <td>1.143435</td>\n",
       "    </tr>\n",
       "    <tr>\n",
       "      <th>2015-11-24</th>\n",
       "      <td>0.597938</td>\n",
       "    </tr>\n",
       "    <tr>\n",
       "      <th>2015-11-25</th>\n",
       "      <td>-1.880456</td>\n",
       "    </tr>\n",
       "    <tr>\n",
       "      <th>2015-11-26</th>\n",
       "      <td>0.284289</td>\n",
       "    </tr>\n",
       "    <tr>\n",
       "      <th>2015-11-27</th>\n",
       "      <td>0.867072</td>\n",
       "    </tr>\n",
       "    <tr>\n",
       "      <th>2015-11-30</th>\n",
       "      <td>0.718808</td>\n",
       "    </tr>\n",
       "    <tr>\n",
       "      <th>2015-12-01</th>\n",
       "      <td>0.169879</td>\n",
       "    </tr>\n",
       "    <tr>\n",
       "      <th>2015-12-02</th>\n",
       "      <td>-0.123606</td>\n",
       "    </tr>\n",
       "    <tr>\n",
       "      <th>2015-12-03</th>\n",
       "      <td>-0.589328</td>\n",
       "    </tr>\n",
       "    <tr>\n",
       "      <th>2015-12-04</th>\n",
       "      <td>-0.704621</td>\n",
       "    </tr>\n",
       "    <tr>\n",
       "      <th>2015-12-07</th>\n",
       "      <td>-0.580003</td>\n",
       "    </tr>\n",
       "    <tr>\n",
       "      <th>2015-12-08</th>\n",
       "      <td>0.560407</td>\n",
       "    </tr>\n",
       "    <tr>\n",
       "      <th>2015-12-09</th>\n",
       "      <td>-0.600015</td>\n",
       "    </tr>\n",
       "    <tr>\n",
       "      <th>2015-12-10</th>\n",
       "      <td>0.786464</td>\n",
       "    </tr>\n",
       "    <tr>\n",
       "      <th>2015-12-11</th>\n",
       "      <td>-1.901484</td>\n",
       "    </tr>\n",
       "    <tr>\n",
       "      <th>2015-12-14</th>\n",
       "      <td>0.874037</td>\n",
       "    </tr>\n",
       "    <tr>\n",
       "      <th>2015-12-15</th>\n",
       "      <td>0.483860</td>\n",
       "    </tr>\n",
       "    <tr>\n",
       "      <th>2015-12-16</th>\n",
       "      <td>0.036126</td>\n",
       "    </tr>\n",
       "    <tr>\n",
       "      <th>2015-12-17</th>\n",
       "      <td>0.130765</td>\n",
       "    </tr>\n",
       "    <tr>\n",
       "      <th>2015-12-18</th>\n",
       "      <td>-0.616906</td>\n",
       "    </tr>\n",
       "    <tr>\n",
       "      <th>2015-12-21</th>\n",
       "      <td>0.128661</td>\n",
       "    </tr>\n",
       "    <tr>\n",
       "      <th>2015-12-22</th>\n",
       "      <td>0.191953</td>\n",
       "    </tr>\n",
       "    <tr>\n",
       "      <th>2015-12-23</th>\n",
       "      <td>0.120399</td>\n",
       "    </tr>\n",
       "    <tr>\n",
       "      <th>2015-12-24</th>\n",
       "      <td>1.453230</td>\n",
       "    </tr>\n",
       "    <tr>\n",
       "      <th>2015-12-25</th>\n",
       "      <td>-1.263088</td>\n",
       "    </tr>\n",
       "    <tr>\n",
       "      <th>2015-12-28</th>\n",
       "      <td>0.023252</td>\n",
       "    </tr>\n",
       "    <tr>\n",
       "      <th>2015-12-29</th>\n",
       "      <td>-0.420077</td>\n",
       "    </tr>\n",
       "    <tr>\n",
       "      <th>2015-12-30</th>\n",
       "      <td>0.294480</td>\n",
       "    </tr>\n",
       "    <tr>\n",
       "      <th>2015-12-31</th>\n",
       "      <td>0.348108</td>\n",
       "    </tr>\n",
       "  </tbody>\n",
       "</table>\n",
       "<p>261 rows × 1 columns</p>\n",
       "</div>"
      ],
      "text/plain": [
       "                   0\n",
       "2015-01-01 -0.682880\n",
       "2015-01-02  0.076786\n",
       "2015-01-05 -0.577732\n",
       "2015-01-06  1.086926\n",
       "2015-01-07 -0.013960\n",
       "2015-01-08  0.283578\n",
       "2015-01-09 -0.012099\n",
       "2015-01-12  0.147540\n",
       "2015-01-13 -0.137358\n",
       "2015-01-14 -0.451641\n",
       "2015-01-15 -0.588356\n",
       "2015-01-16  0.874261\n",
       "2015-01-19 -1.595330\n",
       "2015-01-20 -0.335436\n",
       "2015-01-21 -0.720995\n",
       "2015-01-22 -0.557433\n",
       "2015-01-23  1.994685\n",
       "2015-01-26  0.512276\n",
       "2015-01-27 -0.399778\n",
       "2015-01-28  0.938259\n",
       "2015-01-29 -0.762814\n",
       "2015-01-30  0.699832\n",
       "2015-02-02  0.862499\n",
       "2015-02-03 -0.213746\n",
       "2015-02-04  0.157768\n",
       "2015-02-05  0.596426\n",
       "2015-02-06  0.980761\n",
       "2015-02-09 -0.349040\n",
       "2015-02-10 -2.882464\n",
       "2015-02-11 -1.571571\n",
       "...              ...\n",
       "2015-11-20  0.520539\n",
       "2015-11-23  1.143435\n",
       "2015-11-24  0.597938\n",
       "2015-11-25 -1.880456\n",
       "2015-11-26  0.284289\n",
       "2015-11-27  0.867072\n",
       "2015-11-30  0.718808\n",
       "2015-12-01  0.169879\n",
       "2015-12-02 -0.123606\n",
       "2015-12-03 -0.589328\n",
       "2015-12-04 -0.704621\n",
       "2015-12-07 -0.580003\n",
       "2015-12-08  0.560407\n",
       "2015-12-09 -0.600015\n",
       "2015-12-10  0.786464\n",
       "2015-12-11 -1.901484\n",
       "2015-12-14  0.874037\n",
       "2015-12-15  0.483860\n",
       "2015-12-16  0.036126\n",
       "2015-12-17  0.130765\n",
       "2015-12-18 -0.616906\n",
       "2015-12-21  0.128661\n",
       "2015-12-22  0.191953\n",
       "2015-12-23  0.120399\n",
       "2015-12-24  1.453230\n",
       "2015-12-25 -1.263088\n",
       "2015-12-28  0.023252\n",
       "2015-12-29 -0.420077\n",
       "2015-12-30  0.294480\n",
       "2015-12-31  0.348108\n",
       "\n",
       "[261 rows x 1 columns]"
      ]
     },
     "execution_count": 4,
     "metadata": {},
     "output_type": "execute_result"
    }
   ],
   "source": [
    "import pandas as pd\n",
    "import numpy as np\n",
    "\n",
    "dates = pd.date_range('1/1/2015', periods=261, freq='B')\n",
    "df = pd.DataFrame(np.random.randn(261,1), index=dates)\n",
    "df"
   ]
  },
  {
   "cell_type": "markdown",
   "metadata": {},
   "source": [
    "Problem 3:- Find the sum of the values in s for every Wednesday"
   ]
  },
  {
   "cell_type": "code",
   "execution_count": 5,
   "metadata": {},
   "outputs": [
    {
     "data": {
      "text/html": [
       "<div>\n",
       "<style scoped>\n",
       "    .dataframe tbody tr th:only-of-type {\n",
       "        vertical-align: middle;\n",
       "    }\n",
       "\n",
       "    .dataframe tbody tr th {\n",
       "        vertical-align: top;\n",
       "    }\n",
       "\n",
       "    .dataframe thead th {\n",
       "        text-align: right;\n",
       "    }\n",
       "</style>\n",
       "<table border=\"1\" class=\"dataframe\">\n",
       "  <thead>\n",
       "    <tr style=\"text-align: right;\">\n",
       "      <th></th>\n",
       "      <th>0</th>\n",
       "    </tr>\n",
       "  </thead>\n",
       "  <tbody>\n",
       "    <tr>\n",
       "      <th>2015-01-07</th>\n",
       "      <td>-0.233952</td>\n",
       "    </tr>\n",
       "    <tr>\n",
       "      <th>2015-01-14</th>\n",
       "      <td>1.898781</td>\n",
       "    </tr>\n",
       "    <tr>\n",
       "      <th>2015-01-21</th>\n",
       "      <td>3.016145</td>\n",
       "    </tr>\n",
       "    <tr>\n",
       "      <th>2015-01-28</th>\n",
       "      <td>3.412285</td>\n",
       "    </tr>\n",
       "    <tr>\n",
       "      <th>2015-02-04</th>\n",
       "      <td>-0.148994</td>\n",
       "    </tr>\n",
       "    <tr>\n",
       "      <th>2015-02-11</th>\n",
       "      <td>1.499983</td>\n",
       "    </tr>\n",
       "    <tr>\n",
       "      <th>2015-02-18</th>\n",
       "      <td>0.571726</td>\n",
       "    </tr>\n",
       "    <tr>\n",
       "      <th>2015-02-25</th>\n",
       "      <td>0.969228</td>\n",
       "    </tr>\n",
       "    <tr>\n",
       "      <th>2015-03-04</th>\n",
       "      <td>3.143546</td>\n",
       "    </tr>\n",
       "    <tr>\n",
       "      <th>2015-03-11</th>\n",
       "      <td>-2.138268</td>\n",
       "    </tr>\n",
       "    <tr>\n",
       "      <th>2015-03-18</th>\n",
       "      <td>1.880866</td>\n",
       "    </tr>\n",
       "    <tr>\n",
       "      <th>2015-03-25</th>\n",
       "      <td>-5.054493</td>\n",
       "    </tr>\n",
       "    <tr>\n",
       "      <th>2015-04-01</th>\n",
       "      <td>0.237269</td>\n",
       "    </tr>\n",
       "    <tr>\n",
       "      <th>2015-04-08</th>\n",
       "      <td>-0.881391</td>\n",
       "    </tr>\n",
       "    <tr>\n",
       "      <th>2015-04-15</th>\n",
       "      <td>1.337364</td>\n",
       "    </tr>\n",
       "    <tr>\n",
       "      <th>2015-04-22</th>\n",
       "      <td>4.894824</td>\n",
       "    </tr>\n",
       "    <tr>\n",
       "      <th>2015-04-29</th>\n",
       "      <td>-2.897382</td>\n",
       "    </tr>\n",
       "    <tr>\n",
       "      <th>2015-05-06</th>\n",
       "      <td>0.795685</td>\n",
       "    </tr>\n",
       "    <tr>\n",
       "      <th>2015-05-13</th>\n",
       "      <td>-0.289141</td>\n",
       "    </tr>\n",
       "    <tr>\n",
       "      <th>2015-05-20</th>\n",
       "      <td>3.235620</td>\n",
       "    </tr>\n",
       "    <tr>\n",
       "      <th>2015-05-27</th>\n",
       "      <td>0.614636</td>\n",
       "    </tr>\n",
       "    <tr>\n",
       "      <th>2015-06-03</th>\n",
       "      <td>-0.039481</td>\n",
       "    </tr>\n",
       "    <tr>\n",
       "      <th>2015-06-10</th>\n",
       "      <td>1.230977</td>\n",
       "    </tr>\n",
       "    <tr>\n",
       "      <th>2015-06-17</th>\n",
       "      <td>3.278858</td>\n",
       "    </tr>\n",
       "    <tr>\n",
       "      <th>2015-06-24</th>\n",
       "      <td>0.125095</td>\n",
       "    </tr>\n",
       "    <tr>\n",
       "      <th>2015-07-01</th>\n",
       "      <td>-1.453074</td>\n",
       "    </tr>\n",
       "    <tr>\n",
       "      <th>2015-07-08</th>\n",
       "      <td>-0.678231</td>\n",
       "    </tr>\n",
       "    <tr>\n",
       "      <th>2015-07-15</th>\n",
       "      <td>-1.559038</td>\n",
       "    </tr>\n",
       "    <tr>\n",
       "      <th>2015-07-22</th>\n",
       "      <td>-0.978084</td>\n",
       "    </tr>\n",
       "    <tr>\n",
       "      <th>2015-07-29</th>\n",
       "      <td>-3.097806</td>\n",
       "    </tr>\n",
       "    <tr>\n",
       "      <th>2015-08-05</th>\n",
       "      <td>0.426586</td>\n",
       "    </tr>\n",
       "    <tr>\n",
       "      <th>2015-08-12</th>\n",
       "      <td>0.249040</td>\n",
       "    </tr>\n",
       "    <tr>\n",
       "      <th>2015-08-19</th>\n",
       "      <td>2.824330</td>\n",
       "    </tr>\n",
       "    <tr>\n",
       "      <th>2015-08-26</th>\n",
       "      <td>0.101274</td>\n",
       "    </tr>\n",
       "    <tr>\n",
       "      <th>2015-09-02</th>\n",
       "      <td>0.947066</td>\n",
       "    </tr>\n",
       "    <tr>\n",
       "      <th>2015-09-09</th>\n",
       "      <td>-0.943208</td>\n",
       "    </tr>\n",
       "    <tr>\n",
       "      <th>2015-09-16</th>\n",
       "      <td>1.613650</td>\n",
       "    </tr>\n",
       "    <tr>\n",
       "      <th>2015-09-23</th>\n",
       "      <td>0.457553</td>\n",
       "    </tr>\n",
       "    <tr>\n",
       "      <th>2015-09-30</th>\n",
       "      <td>2.059777</td>\n",
       "    </tr>\n",
       "    <tr>\n",
       "      <th>2015-10-07</th>\n",
       "      <td>-1.007895</td>\n",
       "    </tr>\n",
       "    <tr>\n",
       "      <th>2015-10-14</th>\n",
       "      <td>-0.045362</td>\n",
       "    </tr>\n",
       "    <tr>\n",
       "      <th>2015-10-21</th>\n",
       "      <td>-1.042256</td>\n",
       "    </tr>\n",
       "    <tr>\n",
       "      <th>2015-10-28</th>\n",
       "      <td>3.899968</td>\n",
       "    </tr>\n",
       "    <tr>\n",
       "      <th>2015-11-04</th>\n",
       "      <td>1.938812</td>\n",
       "    </tr>\n",
       "    <tr>\n",
       "      <th>2015-11-11</th>\n",
       "      <td>-1.453829</td>\n",
       "    </tr>\n",
       "    <tr>\n",
       "      <th>2015-11-18</th>\n",
       "      <td>-3.096733</td>\n",
       "    </tr>\n",
       "    <tr>\n",
       "      <th>2015-11-25</th>\n",
       "      <td>-1.040825</td>\n",
       "    </tr>\n",
       "    <tr>\n",
       "      <th>2015-12-02</th>\n",
       "      <td>1.040074</td>\n",
       "    </tr>\n",
       "    <tr>\n",
       "      <th>2015-12-09</th>\n",
       "      <td>-1.518563</td>\n",
       "    </tr>\n",
       "    <tr>\n",
       "      <th>2015-12-16</th>\n",
       "      <td>-0.115359</td>\n",
       "    </tr>\n",
       "    <tr>\n",
       "      <th>2015-12-23</th>\n",
       "      <td>4.941638</td>\n",
       "    </tr>\n",
       "    <tr>\n",
       "      <th>2015-12-30</th>\n",
       "      <td>-2.425378</td>\n",
       "    </tr>\n",
       "    <tr>\n",
       "      <th>2016-01-06</th>\n",
       "      <td>2.053666</td>\n",
       "    </tr>\n",
       "  </tbody>\n",
       "</table>\n",
       "</div>"
      ],
      "text/plain": [
       "                   0\n",
       "2015-01-07 -0.233952\n",
       "2015-01-14  1.898781\n",
       "2015-01-21  3.016145\n",
       "2015-01-28  3.412285\n",
       "2015-02-04 -0.148994\n",
       "2015-02-11  1.499983\n",
       "2015-02-18  0.571726\n",
       "2015-02-25  0.969228\n",
       "2015-03-04  3.143546\n",
       "2015-03-11 -2.138268\n",
       "2015-03-18  1.880866\n",
       "2015-03-25 -5.054493\n",
       "2015-04-01  0.237269\n",
       "2015-04-08 -0.881391\n",
       "2015-04-15  1.337364\n",
       "2015-04-22  4.894824\n",
       "2015-04-29 -2.897382\n",
       "2015-05-06  0.795685\n",
       "2015-05-13 -0.289141\n",
       "2015-05-20  3.235620\n",
       "2015-05-27  0.614636\n",
       "2015-06-03 -0.039481\n",
       "2015-06-10  1.230977\n",
       "2015-06-17  3.278858\n",
       "2015-06-24  0.125095\n",
       "2015-07-01 -1.453074\n",
       "2015-07-08 -0.678231\n",
       "2015-07-15 -1.559038\n",
       "2015-07-22 -0.978084\n",
       "2015-07-29 -3.097806\n",
       "2015-08-05  0.426586\n",
       "2015-08-12  0.249040\n",
       "2015-08-19  2.824330\n",
       "2015-08-26  0.101274\n",
       "2015-09-02  0.947066\n",
       "2015-09-09 -0.943208\n",
       "2015-09-16  1.613650\n",
       "2015-09-23  0.457553\n",
       "2015-09-30  2.059777\n",
       "2015-10-07 -1.007895\n",
       "2015-10-14 -0.045362\n",
       "2015-10-21 -1.042256\n",
       "2015-10-28  3.899968\n",
       "2015-11-04  1.938812\n",
       "2015-11-11 -1.453829\n",
       "2015-11-18 -3.096733\n",
       "2015-11-25 -1.040825\n",
       "2015-12-02  1.040074\n",
       "2015-12-09 -1.518563\n",
       "2015-12-16 -0.115359\n",
       "2015-12-23  4.941638\n",
       "2015-12-30 -2.425378\n",
       "2016-01-06  2.053666"
      ]
     },
     "execution_count": 5,
     "metadata": {},
     "output_type": "execute_result"
    }
   ],
   "source": [
    "import pandas as pd \n",
    "import numpy as np \n",
    "\n",
    "dates = pd.date_range('1/1/2015', periods=261, freq='B') \n",
    "df = pd.DataFrame(np.random.randn(261,1), index=dates) \n",
    "\n",
    "Sum_For_Wednesday = df.groupby(pd.Grouper(freq=\"W-WED\")) \n",
    "\n",
    "Sum_For_Wednesday.sum()\n"
   ]
  },
  {
   "cell_type": "markdown",
   "metadata": {},
   "source": [
    "Problem 4:- Average For each calendar month"
   ]
  },
  {
   "cell_type": "code",
   "execution_count": 6,
   "metadata": {},
   "outputs": [
    {
     "data": {
      "text/html": [
       "<div>\n",
       "<style scoped>\n",
       "    .dataframe tbody tr th:only-of-type {\n",
       "        vertical-align: middle;\n",
       "    }\n",
       "\n",
       "    .dataframe tbody tr th {\n",
       "        vertical-align: top;\n",
       "    }\n",
       "\n",
       "    .dataframe thead th {\n",
       "        text-align: right;\n",
       "    }\n",
       "</style>\n",
       "<table border=\"1\" class=\"dataframe\">\n",
       "  <thead>\n",
       "    <tr style=\"text-align: right;\">\n",
       "      <th></th>\n",
       "      <th>0</th>\n",
       "    </tr>\n",
       "  </thead>\n",
       "  <tbody>\n",
       "    <tr>\n",
       "      <th>1</th>\n",
       "      <td>0.045244</td>\n",
       "    </tr>\n",
       "    <tr>\n",
       "      <th>2</th>\n",
       "      <td>0.131788</td>\n",
       "    </tr>\n",
       "    <tr>\n",
       "      <th>3</th>\n",
       "      <td>-0.405464</td>\n",
       "    </tr>\n",
       "    <tr>\n",
       "      <th>4</th>\n",
       "      <td>-0.176495</td>\n",
       "    </tr>\n",
       "    <tr>\n",
       "      <th>5</th>\n",
       "      <td>-0.141443</td>\n",
       "    </tr>\n",
       "    <tr>\n",
       "      <th>6</th>\n",
       "      <td>0.316338</td>\n",
       "    </tr>\n",
       "    <tr>\n",
       "      <th>7</th>\n",
       "      <td>0.107782</td>\n",
       "    </tr>\n",
       "    <tr>\n",
       "      <th>8</th>\n",
       "      <td>-0.115201</td>\n",
       "    </tr>\n",
       "    <tr>\n",
       "      <th>9</th>\n",
       "      <td>0.011560</td>\n",
       "    </tr>\n",
       "    <tr>\n",
       "      <th>10</th>\n",
       "      <td>-0.059569</td>\n",
       "    </tr>\n",
       "    <tr>\n",
       "      <th>11</th>\n",
       "      <td>-0.112379</td>\n",
       "    </tr>\n",
       "    <tr>\n",
       "      <th>12</th>\n",
       "      <td>-0.292795</td>\n",
       "    </tr>\n",
       "  </tbody>\n",
       "</table>\n",
       "</div>"
      ],
      "text/plain": [
       "           0\n",
       "1   0.045244\n",
       "2   0.131788\n",
       "3  -0.405464\n",
       "4  -0.176495\n",
       "5  -0.141443\n",
       "6   0.316338\n",
       "7   0.107782\n",
       "8  -0.115201\n",
       "9   0.011560\n",
       "10 -0.059569\n",
       "11 -0.112379\n",
       "12 -0.292795"
      ]
     },
     "execution_count": 6,
     "metadata": {},
     "output_type": "execute_result"
    }
   ],
   "source": [
    "import pandas as pd \n",
    "import numpy as np \n",
    "\n",
    "dates = pd.date_range('1/1/2015', periods=261, freq='B') \n",
    "df = pd.DataFrame(np.random.randn(261,1), index=dates) \n",
    "df.groupby(lambda x:(x.month)).mean()"
   ]
  },
  {
   "cell_type": "markdown",
   "metadata": {},
   "source": [
    "Problem 5:- For each group of four consecutive calendar months in s, find the date on which the highest value occurred.\n"
   ]
  },
  {
   "cell_type": "code",
   "execution_count": 7,
   "metadata": {},
   "outputs": [
    {
     "data": {
      "text/html": [
       "<div>\n",
       "<style scoped>\n",
       "    .dataframe tbody tr th:only-of-type {\n",
       "        vertical-align: middle;\n",
       "    }\n",
       "\n",
       "    .dataframe tbody tr th {\n",
       "        vertical-align: top;\n",
       "    }\n",
       "\n",
       "    .dataframe thead tr th {\n",
       "        text-align: left;\n",
       "    }\n",
       "</style>\n",
       "<table border=\"1\" class=\"dataframe\">\n",
       "  <thead>\n",
       "    <tr>\n",
       "      <th></th>\n",
       "      <th colspan=\"2\" halign=\"left\">0</th>\n",
       "    </tr>\n",
       "    <tr>\n",
       "      <th></th>\n",
       "      <th>max</th>\n",
       "      <th>idxmax</th>\n",
       "    </tr>\n",
       "  </thead>\n",
       "  <tbody>\n",
       "    <tr>\n",
       "      <th>20150</th>\n",
       "      <td>2.725591</td>\n",
       "      <td>2015-04-17</td>\n",
       "    </tr>\n",
       "    <tr>\n",
       "      <th>20151</th>\n",
       "      <td>2.694018</td>\n",
       "      <td>2015-05-18</td>\n",
       "    </tr>\n",
       "    <tr>\n",
       "      <th>20152</th>\n",
       "      <td>1.901255</td>\n",
       "      <td>2015-02-17</td>\n",
       "    </tr>\n",
       "    <tr>\n",
       "      <th>20153</th>\n",
       "      <td>1.847425</td>\n",
       "      <td>2015-07-28</td>\n",
       "    </tr>\n",
       "  </tbody>\n",
       "</table>\n",
       "</div>"
      ],
      "text/plain": [
       "              0           \n",
       "            max     idxmax\n",
       "20150  2.725591 2015-04-17\n",
       "20151  2.694018 2015-05-18\n",
       "20152  1.901255 2015-02-17\n",
       "20153  1.847425 2015-07-28"
      ]
     },
     "execution_count": 7,
     "metadata": {},
     "output_type": "execute_result"
    }
   ],
   "source": [
    "import pandas as pd \n",
    "import numpy as np \n",
    "\n",
    "dates = pd.date_range('1/1/2015', periods=261, freq='B') \n",
    "df = pd.DataFrame(np.random.randn(261,1), index=dates) \n",
    "df.groupby(lambda x:(x.year*10 + x.month%4)).agg(['max','idxmax'])"
   ]
  },
  {
   "cell_type": "markdown",
   "metadata": {},
   "source": [
    "### Problem Statement 2"
   ]
  },
  {
   "cell_type": "markdown",
   "metadata": {},
   "source": [
    "Read the dataset from the below link\n",
    "https://raw.githubusercontent.com/guipsamora/pandas_exercises/master/06_Stats/US_Baby_Names/US_Baby_Nam\n",
    "es_right.csv\n",
    "\n",
    "Questions:"
   ]
  },
  {
   "cell_type": "markdown",
   "metadata": {},
   "source": [
    "Problem 1:- Delete unnamed columns"
   ]
  },
  {
   "cell_type": "code",
   "execution_count": 8,
   "metadata": {},
   "outputs": [
    {
     "name": "stdout",
     "output_type": "stream",
     "text": [
      "              Id       Name  Year Gender State  Count\n",
      "0          11350       Emma  2004      F    AK     62\n",
      "1          11351    Madison  2004      F    AK     48\n",
      "2          11352     Hannah  2004      F    AK     46\n",
      "3          11353      Grace  2004      F    AK     44\n",
      "4          11354      Emily  2004      F    AK     41\n",
      "5          11355    Abigail  2004      F    AK     37\n",
      "6          11356     Olivia  2004      F    AK     33\n",
      "7          11357   Isabella  2004      F    AK     30\n",
      "8          11358     Alyssa  2004      F    AK     29\n",
      "9          11359     Sophia  2004      F    AK     28\n",
      "10         11360     Alexis  2004      F    AK     27\n",
      "11         11361  Elizabeth  2004      F    AK     27\n",
      "12         11362     Hailey  2004      F    AK     27\n",
      "13         11363       Anna  2004      F    AK     26\n",
      "14         11364    Natalie  2004      F    AK     25\n",
      "15         11365      Sarah  2004      F    AK     25\n",
      "16         11366     Sydney  2004      F    AK     25\n",
      "17         11367        Ava  2004      F    AK     23\n",
      "18         11368    Trinity  2004      F    AK     22\n",
      "19         11369      Haley  2004      F    AK     21\n",
      "20         11370     Kaylee  2004      F    AK     21\n",
      "21         11371     Taylor  2004      F    AK     21\n",
      "22         11372      Chloe  2004      F    AK     20\n",
      "23         11373       Ella  2004      F    AK     20\n",
      "24         11374  Mackenzie  2004      F    AK     20\n",
      "25         11375     Sierra  2004      F    AK     19\n",
      "26         11376      Kayla  2004      F    AK     18\n",
      "27         11377   Samantha  2004      F    AK     18\n",
      "28         11378        Zoe  2004      F    AK     18\n",
      "29         11379    Jessica  2004      F    AK     17\n",
      "...          ...        ...   ...    ...   ...    ...\n",
      "1016365  5647397     Brooks  2014      M    WY      5\n",
      "1016366  5647398     Calvin  2014      M    WY      5\n",
      "1016367  5647399    Cameron  2014      M    WY      5\n",
      "1016368  5647400     Dalton  2014      M    WY      5\n",
      "1016369  5647401     Dawson  2014      M    WY      5\n",
      "1016370  5647402     Edward  2014      M    WY      5\n",
      "1016371  5647403      Elias  2014      M    WY      5\n",
      "1016372  5647404       Gage  2014      M    WY      5\n",
      "1016373  5647405     Hayden  2014      M    WY      5\n",
      "1016374  5647406     Jasper  2014      M    WY      5\n",
      "1016375  5647407       Jose  2014      M    WY      5\n",
      "1016376  5647408     Kaiden  2014      M    WY      5\n",
      "1016377  5647409      Kaleb  2014      M    WY      5\n",
      "1016378  5647410      Kasen  2014      M    WY      5\n",
      "1016379  5647411      Kyson  2014      M    WY      5\n",
      "1016380  5647412      Lukas  2014      M    WY      5\n",
      "1016381  5647413      Myles  2014      M    WY      5\n",
      "1016382  5647414  Nathaniel  2014      M    WY      5\n",
      "1016383  5647415      Nolan  2014      M    WY      5\n",
      "1016384  5647416     Oakley  2014      M    WY      5\n",
      "1016385  5647417       Odin  2014      M    WY      5\n",
      "1016386  5647418     Paxton  2014      M    WY      5\n",
      "1016387  5647419    Raymond  2014      M    WY      5\n",
      "1016388  5647420    Richard  2014      M    WY      5\n",
      "1016389  5647421      Rowan  2014      M    WY      5\n",
      "1016390  5647422       Seth  2014      M    WY      5\n",
      "1016391  5647423    Spencer  2014      M    WY      5\n",
      "1016392  5647424       Tyce  2014      M    WY      5\n",
      "1016393  5647425     Victor  2014      M    WY      5\n",
      "1016394  5647426     Waylon  2014      M    WY      5\n",
      "\n",
      "[1016395 rows x 6 columns]\n"
     ]
    }
   ],
   "source": [
    "import pandas as pd\n",
    "myData = pd.read_csv('https://raw.githubusercontent.com/guipsamora/pandas_exercises/master/06_Stats/US_Baby_Names/US_Baby_Names_right.csv')\n",
    "\n",
    "del myData['Unnamed: 0']\n",
    "print(myData)"
   ]
  },
  {
   "cell_type": "markdown",
   "metadata": {},
   "source": [
    "Problem 2:- Show the distribution of male and female"
   ]
  },
  {
   "cell_type": "code",
   "execution_count": 9,
   "metadata": {},
   "outputs": [
    {
     "data": {
      "text/plain": [
       "0          F\n",
       "1          F\n",
       "2          F\n",
       "3          F\n",
       "4          F\n",
       "5          F\n",
       "6          F\n",
       "7          F\n",
       "8          F\n",
       "9          F\n",
       "10         F\n",
       "11         F\n",
       "12         F\n",
       "13         F\n",
       "14         F\n",
       "15         F\n",
       "16         F\n",
       "17         F\n",
       "18         F\n",
       "19         F\n",
       "20         F\n",
       "21         F\n",
       "22         F\n",
       "23         F\n",
       "24         F\n",
       "25         F\n",
       "26         F\n",
       "27         F\n",
       "28         F\n",
       "29         F\n",
       "          ..\n",
       "1016365    M\n",
       "1016366    M\n",
       "1016367    M\n",
       "1016368    M\n",
       "1016369    M\n",
       "1016370    M\n",
       "1016371    M\n",
       "1016372    M\n",
       "1016373    M\n",
       "1016374    M\n",
       "1016375    M\n",
       "1016376    M\n",
       "1016377    M\n",
       "1016378    M\n",
       "1016379    M\n",
       "1016380    M\n",
       "1016381    M\n",
       "1016382    M\n",
       "1016383    M\n",
       "1016384    M\n",
       "1016385    M\n",
       "1016386    M\n",
       "1016387    M\n",
       "1016388    M\n",
       "1016389    M\n",
       "1016390    M\n",
       "1016391    M\n",
       "1016392    M\n",
       "1016393    M\n",
       "1016394    M\n",
       "Name: Gender, Length: 1016395, dtype: object"
      ]
     },
     "execution_count": 9,
     "metadata": {},
     "output_type": "execute_result"
    }
   ],
   "source": [
    "myData['Gender']"
   ]
  },
  {
   "cell_type": "markdown",
   "metadata": {},
   "source": [
    "Problem 3:- Show the top 5 most preferred names"
   ]
  },
  {
   "cell_type": "code",
   "execution_count": 10,
   "metadata": {},
   "outputs": [
    {
     "data": {
      "text/plain": [
       "0       Emma\n",
       "1    Madison\n",
       "2     Hannah\n",
       "3      Grace\n",
       "4      Emily\n",
       "Name: Name, dtype: object"
      ]
     },
     "execution_count": 10,
     "metadata": {},
     "output_type": "execute_result"
    }
   ],
   "source": [
    "myData[\"Name\"].head(5)"
   ]
  },
  {
   "cell_type": "markdown",
   "metadata": {},
   "source": [
    "Problem 4:- What is the median name occurrence in the dataset"
   ]
  },
  {
   "cell_type": "code",
   "execution_count": 11,
   "metadata": {},
   "outputs": [
    {
     "data": {
      "text/plain": [
       "6.0"
      ]
     },
     "execution_count": 11,
     "metadata": {},
     "output_type": "execute_result"
    }
   ],
   "source": [
    "myData['Name'] = abs(myData['Count'] - myData['Count'].median())\n",
    "myData['Name'].median()"
   ]
  },
  {
   "cell_type": "markdown",
   "metadata": {},
   "source": [
    "Problem 5:- Distribution of male and female born count by states"
   ]
  },
  {
   "cell_type": "code",
   "execution_count": 12,
   "metadata": {},
   "outputs": [
    {
     "name": "stdout",
     "output_type": "stream",
     "text": [
      "                 Id   Name   Year  Count\n",
      "State Gender                            \n",
      "AK    F        2404   2404   2404   2404\n",
      "      M        2587   2587   2587   2587\n",
      "AL    F        9878   9878   9878   9878\n",
      "      M        8419   8419   8419   8419\n",
      "AR    F        7171   7171   7171   7171\n",
      "      M        6475   6475   6475   6475\n",
      "AZ    F       14518  14518  14518  14518\n",
      "      M       10820  10820  10820  10820\n",
      "CA    F       45144  45144  45144  45144\n",
      "      M       31637  31637  31637  31637\n",
      "CO    F       11424  11424  11424  11424\n",
      "      M        9183   9183   9183   9183\n",
      "CT    F        6575   6575   6575   6575\n",
      "      M        5733   5733   5733   5733\n",
      "DC    F        3053   3053   3053   3053\n",
      "      M        3000   3000   3000   3000\n",
      "DE    F        2549   2549   2549   2549\n",
      "      M        2440   2440   2440   2440\n",
      "FL    F       25781  25781  25781  25781\n",
      "      M       20070  20070  20070  20070\n",
      "GA    F       19385  19385  19385  19385\n",
      "      M       15454  15454  15454  15454\n",
      "HI    F        3255   3255   3255   3255\n",
      "      M        3546   3546   3546   3546\n",
      "IA    F        7131   7131   7131   7131\n",
      "      M        6307   6307   6307   6307\n",
      "ID    F        4918   4918   4918   4918\n",
      "      M        4833   4833   4833   4833\n",
      "IL    F       21268  21268  21268  21268\n",
      "      M       16828  16828  16828  16828\n",
      "...             ...    ...    ...    ...\n",
      "OK    F        9519   9519   9519   9519\n",
      "      M        8138   8138   8138   8138\n",
      "OR    F        8604   8604   8604   8604\n",
      "      M        7333   7333   7333   7333\n",
      "PA    F       17480  17480  17480  17480\n",
      "      M       14171  14171  14171  14171\n",
      "RI    F        2558   2558   2558   2558\n",
      "      M        2468   2468   2468   2468\n",
      "SC    F        9465   9465   9465   9465\n",
      "      M        8195   8195   8195   8195\n",
      "SD    F        2838   2838   2838   2838\n",
      "      M        2908   2908   2908   2908\n",
      "TN    F       13063  13063  13063  13063\n",
      "      M       10588  10588  10588  10588\n",
      "TX    F       39760  39760  39760  39760\n",
      "      M       27791  27791  27791  27791\n",
      "UT    F        9515   9515   9515   9515\n",
      "      M        8233   8233   8233   8233\n",
      "VA    F       14759  14759  14759  14759\n",
      "      M       11997  11997  11997  11997\n",
      "VT    F        1398   1398   1398   1398\n",
      "      M        1618   1618   1618   1618\n",
      "WA    F       13329  13329  13329  13329\n",
      "      M       11049  11049  11049  11049\n",
      "WI    F       10549  10549  10549  10549\n",
      "      M        8940   8940   8940   8940\n",
      "WV    F        4305   4305   4305   4305\n",
      "      M        3733   3733   3733   3733\n",
      "WY    F        1456   1456   1456   1456\n",
      "      M        1904   1904   1904   1904\n",
      "\n",
      "[102 rows x 4 columns]\n"
     ]
    }
   ],
   "source": [
    "counts = myData.groupby(['State','Gender']).count()\n",
    "print(counts)"
   ]
  },
  {
   "cell_type": "markdown",
   "metadata": {},
   "source": [
    "# 2.3. Problem Statement: Use Cases on Numpy and Pandas"
   ]
  },
  {
   "cell_type": "markdown",
   "metadata": {},
   "source": [
    "Problem 1:- Write a Python program which accepts a list named : randomList = ['a', 0, 2]. Use exception\n",
    "handling using try-catch which gives the output as:\n",
    "    \n",
    "Output:\n",
    "\n",
    "1) If the List element is a alphabet or string, the output will be\n",
    "The entry is a\n",
    "Oops! <class 'ValueError'> occured.\n",
    "Next entry.\n",
    "\n",
    "2) If the List element is “0”,the output will be\n",
    "The entry is 0\n",
    "Oops! <class 'ZeroDivisionError'> occured.\n",
    "Next entry.\n",
    "\n",
    "3) If the List element is and integer except 0,then output will be:\n",
    "The entry is 2\n",
    "The reciprocal of 2 is 0.5 // reciprocal of an integer"
   ]
  },
  {
   "cell_type": "code",
   "execution_count": 13,
   "metadata": {},
   "outputs": [
    {
     "name": "stdout",
     "output_type": "stream",
     "text": [
      "The entry is a\n",
      "Oops! <class 'ValueError'> occured.\n",
      "Next entry.\n",
      "\n",
      "The entry is 0\n",
      "Oops! <class 'ZeroDivisionError'> occured.\n",
      "Next entry.\n",
      "\n",
      "The entry is 2\n",
      "The reciprocal of 2 is 0.5\n"
     ]
    }
   ],
   "source": [
    "\n",
    "import sys\n",
    "\n",
    "randomList = ['a', 0, 2]\n",
    "\n",
    "for entry in randomList:\n",
    "    try:\n",
    "        print(\"The entry is\", entry)\n",
    "        r = 1/int(entry)\n",
    "        break\n",
    "    except:\n",
    "        print(\"Oops!\",sys.exc_info()[0],\"occured.\")\n",
    "        print(\"Next entry.\")\n",
    "        print()\n",
    "print(\"The reciprocal of\",entry,\"is\",r)"
   ]
  },
  {
   "cell_type": "markdown",
   "metadata": {},
   "source": [
    "Problem 2:- Array out of Bound Exception\n",
    "Write a Python program to give exception “Array Out of Bound” if the user wants to access the\n",
    "elements beyond the list size (use try and except)"
   ]
  },
  {
   "cell_type": "code",
   "execution_count": 14,
   "metadata": {},
   "outputs": [
    {
     "name": "stdout",
     "output_type": "stream",
     "text": [
      "Enter the index of number:- 13\n",
      "Array Out Of Bound Exception\n",
      "Please enter number below  9\n",
      "Enter the index of number:- 1\n",
      "Entered index is available in list 13\n"
     ]
    }
   ],
   "source": [
    "class Array_out_of_bound(BaseException):\n",
    "    def __init__(self, arg):\n",
    "        print(arg)\n",
    "\n",
    "\n",
    "\n",
    "\n",
    "def arrayOutOfBondEx(array):\n",
    "    while True:\n",
    "        try:\n",
    "            indexOnList= int(input('Enter the index of number:- '))\n",
    "            if len(array) < indexOnList:\n",
    "                raise Array_out_of_bound(\"Array Out Of Bound Exception\")\n",
    "            \n",
    "        except Array_out_of_bound:\n",
    "            print(\"Please enter number below \",len(array))\n",
    "            continue\n",
    "        except:\n",
    "            print(\"Oops, Somthing went wrong, Please check input given by you\")\n",
    "            continue\n",
    "        else:\n",
    "            print(\"Entered index is available in list {}\".format(array[indexOnList]))\n",
    "            break\n",
    "        \n",
    "\n",
    "\n",
    "arrayOutOfBondEx([12,13,3,4,1,3,4,3,2])"
   ]
  },
  {
   "cell_type": "markdown",
   "metadata": {},
   "source": [
    "Problem 3:- Write a python module script that contains fib2() method to calculate the Fibonacci series\n",
    "till 1000 and save it as fibo.py.\n",
    "\n",
    "Note : The module created as fibo.py has to be placed in lib folder\n",
    "For linux/ubuntu path = /home/anaconda/lib/python3\n",
    "For Windows path = C:\\Users\\Ajit\\Anaconda3\\Lib"
   ]
  },
  {
   "cell_type": "code",
   "execution_count": 15,
   "metadata": {},
   "outputs": [],
   "source": [
    "#Changeing Current work directory to \n",
    "import os\n",
    "os.chdir('C:\\\\Users\\\\utkar\\\\Anaconda3\\\\Lib')"
   ]
  },
  {
   "cell_type": "code",
   "execution_count": 16,
   "metadata": {},
   "outputs": [
    {
     "name": "stdout",
     "output_type": "stream",
     "text": [
      "Overwriting fibo.py\n"
     ]
    }
   ],
   "source": [
    "%%writefile fibo.py\n",
    "\n",
    "def fib2(num):   \n",
    "    result = []\n",
    "    a, b = 0, 1\n",
    "    while b < num:\n",
    "        result.append(b)\n",
    "        a, b = b, a+b\n",
    "    return result"
   ]
  },
  {
   "cell_type": "code",
   "execution_count": 17,
   "metadata": {},
   "outputs": [
    {
     "name": "stdout",
     "output_type": "stream",
     "text": [
      "[1, 1, 2, 3, 5, 8, 13, 21, 34, 55, 89, 144, 233, 377, 610, 987]\n"
     ]
    }
   ],
   "source": [
    "import fibo \n",
    "print(fibo.fib2(1000))"
   ]
  },
  {
   "cell_type": "markdown",
   "metadata": {},
   "source": [
    "Problem 4:-Write a python module script that contains ispalindrome() method to calculate the input\n",
    "string as palindrome string or not and save it as palindrome.py."
   ]
  },
  {
   "cell_type": "code",
   "execution_count": 18,
   "metadata": {},
   "outputs": [
    {
     "name": "stdout",
     "output_type": "stream",
     "text": [
      "Overwriting palindromeLib.py\n"
     ]
    }
   ],
   "source": [
    "%%writefile palindromeLib.py\n",
    "\n",
    "def ispalindrome(word):\n",
    "    reverseWord = word[::-1]\n",
    "    if (reverseWord == word):\n",
    "        return True\n",
    "    return False\n",
    "    "
   ]
  },
  {
   "cell_type": "code",
   "execution_count": 19,
   "metadata": {},
   "outputs": [
    {
     "name": "stdout",
     "output_type": "stream",
     "text": [
      "Enter word to check its palindrome or not :-12221\n",
      "12221 is Palindrome : True\n"
     ]
    }
   ],
   "source": [
    "import palindromeLib\n",
    "\n",
    "word = input(\"Enter word to check its palindrome or not :-\")\n",
    "print(\"%s is Palindrome : %s\" % (word , palindromeLib.ispalindrome(word)))"
   ]
  },
  {
   "cell_type": "markdown",
   "metadata": {},
   "source": [
    "Problem 5:- Write a program in Python with one class called Cipher. Within the constructor of this\n",
    "class, ask user for a string and store it. Use a static variable, key to store a randomly\n",
    "generated integer between 1 and 50 inclusive. Implement two methods, encrypt and\n",
    "decrypt within this class. Encrypt generates and prints a cipher text using the user-entered\n",
    "string and the key and ecrypt generates decrypted string from ciphertext. The cipher only\n",
    "encrypts alpha and numeric (A-Z, a-z, 0-9). All Symbols, such as - , ; %, remain unencrypted.\n",
    "The cipher text can have special characters. Use generator expression to filter out alpha and\n",
    "numeric characters of the input string and to generate cipher text. Create an instance of this\n",
    "class, encrypt and decrypt back the user entered string."
   ]
  },
  {
   "cell_type": "code",
   "execution_count": 20,
   "metadata": {},
   "outputs": [
    {
     "name": "stdout",
     "output_type": "stream",
     "text": [
      "Enter String to encrypt :- testing%%STring\n",
      "kvjkzex%%JKizex\n",
      "testing%%STring\n"
     ]
    }
   ],
   "source": [
    "import random\n",
    "\n",
    "class Cipher():\n",
    "    \n",
    "    key = random.randint(1,50)\n",
    "    \n",
    "    def __init__(self):\n",
    "        self.varString = input(\"Enter String to encrypt :- \")\n",
    "        \n",
    "    \n",
    "    \n",
    "    def encryptFunc(self,key):\n",
    "        \n",
    "        encryptText=''.join(chr((ord(char) + key - 65) % 26 + 65) if char.isupper() else chr((ord(char) + key - 97) % 26 + 97) if char.islower() else char for char in self.varString)      \n",
    "        print(encryptText)\n",
    "        return encryptText\n",
    "        #return ''.join(chr((ord(char) + self.key - 65) % 26 + 65) if char.isupper() else chr((ord(char) + key - 97) % 26 + 97) if char.islower() else char for char in self.varString)      \n",
    "         \n",
    "    \n",
    "    def decryptFunc(self, encrytedVar,key):\n",
    "        return ''.join(chr((ord(char) + (26-key) - 65) % 26 + 65) if char.isupper() else chr((ord(char) + (26-key) - 97) % 26 + 97) if char.islower() else char for char in encrytedVar)      \n",
    "\n",
    "obj= Cipher()\n",
    "\n",
    "encryted= obj.encryptFunc(obj.key)\n",
    "\n",
    "print(obj.decryptFunc(encryted,obj.key))\n",
    "  "
   ]
  },
  {
   "cell_type": "markdown",
   "metadata": {},
   "source": [
    "# 2.4. Problem Statement: Matplotlib"
   ]
  },
  {
   "cell_type": "markdown",
   "metadata": {},
   "source": [
    "Matplotlib:\n",
    "This assignment is for visualization using matplotlib:\n",
    "data to use:\n",
    "url=https://raw.githubusercontent.com/Geoyi/Cleaning-Titanic-Data/master/titanic_original.csv\n",
    "titanic = pd.read_csv(url)"
   ]
  },
  {
   "cell_type": "markdown",
   "metadata": {},
   "source": [
    "Problem 1:- Create a pie chart presenting the male/female proportion"
   ]
  },
  {
   "cell_type": "code",
   "execution_count": 21,
   "metadata": {},
   "outputs": [],
   "source": [
    "import numpy as np\n",
    "import pandas as pd\n",
    "myPichart = pd.read_csv('https://raw.githubusercontent.com/Geoyi/Cleaning-Titanic-Data/master/titanic_original.csv')\n",
    "y = myPichart['sex']\n",
    "genderGroup = y.value_counts()"
   ]
  },
  {
   "cell_type": "code",
   "execution_count": 23,
   "metadata": {},
   "outputs": [
    {
     "data": {
      "image/png": "[encoded data removed]",
      "text/plain": [
       "<Figure size 432x288 with 1 Axes>"
      ]
     },
     "metadata": {},
     "output_type": "display_data"
    }
   ],
   "source": [
    "import matplotlib.pyplot as plt\n",
    "plt.figure()\n",
    "values = [845,466] \n",
    "labels = ['female', 'male'] \n",
    "plt.pie(values, labels=labels, autopct='%.2f')\n",
    "plt.show()"
   ]
  },
  {
   "cell_type": "markdown",
   "metadata": {},
   "source": [
    "Problem 2:- Create a scatterplot with the Fare paid and the Age, differ the plot color by gender"
   ]
  },
  {
   "cell_type": "code",
   "execution_count": 24,
   "metadata": {},
   "outputs": [
    {
     "data": {
      "image/png": "[encoded data removed]",
      "text/plain": [
       "<Figure size 432x288 with 1 Axes>"
      ]
     },
     "metadata": {
      "needs_background": "light"
     },
     "output_type": "display_data"
    }
   ],
   "source": [
    "import matplotlib.pyplot as plt\n",
    "fairPaidData = myPichart['fare']\n",
    "ageData = myPichart['age']\n",
    "scatter_plot = plt.scatter(fairPaidData, ageData, alpha=0.5, c=fairPaidData)\n",
    "plt.show()"
   ]
  },
  {
   "cell_type": "markdown",
   "metadata": {},
   "source": [
    "# 2.5. Problem Statement: Data Cleaning"
   ]
  },
  {
   "cell_type": "markdown",
   "metadata": {},
   "source": [
    "It happens all the time: someone gives you data containing malformed strings, Python, lists\n",
    "and missing data. How do you tidy it up so you can get on with the analysis?\n",
    "Take this monstrosity as the DataFrame to use in the following puzzles:\n",
    "df = pd.DataFrame({'From_To': ['LoNDon_paris', 'MAdrid_miLAN', 'londON_StockhOlm',\n",
    "\n",
    "'Budapest_PaRis', 'Brussels_londOn'],\n",
    "'FlightNumber': [10045, np.nan, 10065, np.nan, 10085],\n",
    "\n",
    "'RecentDelays': [[23, 47], [], [24, 43, 87], [13], [67, 32]],\n",
    "'Airline': ['KLM(!)', '<Air France> (12)', '(British Airways. )',\n",
    "'12. Air France', '\"Swiss Air\"']})"
   ]
  },
  {
   "cell_type": "markdown",
   "metadata": {},
   "source": [
    "Problem 1:- Some values in the the FlightNumber column are missing. These numbers are meant to\n",
    "increase by 10 with each row so 10055 and 10075 need to be put in place. Fill in these missing\n",
    "numbers and make the column an integer column (instead of a float column)."
   ]
  },
  {
   "cell_type": "code",
   "execution_count": 25,
   "metadata": {},
   "outputs": [
    {
     "data": {
      "text/html": [
       "<div>\n",
       "<style scoped>\n",
       "    .dataframe tbody tr th:only-of-type {\n",
       "        vertical-align: middle;\n",
       "    }\n",
       "\n",
       "    .dataframe tbody tr th {\n",
       "        vertical-align: top;\n",
       "    }\n",
       "\n",
       "    .dataframe thead th {\n",
       "        text-align: right;\n",
       "    }\n",
       "</style>\n",
       "<table border=\"1\" class=\"dataframe\">\n",
       "  <thead>\n",
       "    <tr style=\"text-align: right;\">\n",
       "      <th></th>\n",
       "      <th>From_To</th>\n",
       "      <th>FlightNumber</th>\n",
       "      <th>RecentDelays</th>\n",
       "      <th>Airline</th>\n",
       "    </tr>\n",
       "  </thead>\n",
       "  <tbody>\n",
       "    <tr>\n",
       "      <th>0</th>\n",
       "      <td>LoNDon_paris</td>\n",
       "      <td>10045.0</td>\n",
       "      <td>[23, 47]</td>\n",
       "      <td>KLM(!)</td>\n",
       "    </tr>\n",
       "    <tr>\n",
       "      <th>1</th>\n",
       "      <td>MAdrid_miLAN</td>\n",
       "      <td>NaN</td>\n",
       "      <td>[]</td>\n",
       "      <td>&lt;Air France&gt; (12)</td>\n",
       "    </tr>\n",
       "    <tr>\n",
       "      <th>2</th>\n",
       "      <td>londON_StockhOlm</td>\n",
       "      <td>10065.0</td>\n",
       "      <td>[24, 43, 87]</td>\n",
       "      <td>(British Airways. )</td>\n",
       "    </tr>\n",
       "    <tr>\n",
       "      <th>3</th>\n",
       "      <td>Budapest_PaRis</td>\n",
       "      <td>NaN</td>\n",
       "      <td>[13]</td>\n",
       "      <td>12. Air France</td>\n",
       "    </tr>\n",
       "    <tr>\n",
       "      <th>4</th>\n",
       "      <td>Brussels_londOn</td>\n",
       "      <td>10085.0</td>\n",
       "      <td>[67, 32]</td>\n",
       "      <td>\"Swiss Air\"</td>\n",
       "    </tr>\n",
       "  </tbody>\n",
       "</table>\n",
       "</div>"
      ],
      "text/plain": [
       "            From_To  FlightNumber  RecentDelays              Airline\n",
       "0      LoNDon_paris       10045.0      [23, 47]               KLM(!)\n",
       "1      MAdrid_miLAN           NaN            []    <Air France> (12)\n",
       "2  londON_StockhOlm       10065.0  [24, 43, 87]  (British Airways. )\n",
       "3    Budapest_PaRis           NaN          [13]       12. Air France\n",
       "4   Brussels_londOn       10085.0      [67, 32]          \"Swiss Air\""
      ]
     },
     "execution_count": 25,
     "metadata": {},
     "output_type": "execute_result"
    }
   ],
   "source": [
    "df = pd.DataFrame({'From_To': ['LoNDon_paris', 'MAdrid_miLAN', 'londON_StockhOlm','Budapest_PaRis', 'Brussels_londOn'],\n",
    "'FlightNumber': [10045, np.nan, 10065, np.nan, 10085],'RecentDelays': [[23, 47], [], [24, 43, 87], [13], [67, 32]],\n",
    "'Airline': ['KLM(!)', '<Air France> (12)', '(British Airways. )','12. Air France', '\"Swiss Air\"']})\n",
    "df"
   ]
  },
  {
   "cell_type": "code",
   "execution_count": 26,
   "metadata": {},
   "outputs": [
    {
     "data": {
      "text/html": [
       "<div>\n",
       "<style scoped>\n",
       "    .dataframe tbody tr th:only-of-type {\n",
       "        vertical-align: middle;\n",
       "    }\n",
       "\n",
       "    .dataframe tbody tr th {\n",
       "        vertical-align: top;\n",
       "    }\n",
       "\n",
       "    .dataframe thead th {\n",
       "        text-align: right;\n",
       "    }\n",
       "</style>\n",
       "<table border=\"1\" class=\"dataframe\">\n",
       "  <thead>\n",
       "    <tr style=\"text-align: right;\">\n",
       "      <th></th>\n",
       "      <th>From_To</th>\n",
       "      <th>FlightNumber</th>\n",
       "      <th>RecentDelays</th>\n",
       "      <th>Airline</th>\n",
       "    </tr>\n",
       "  </thead>\n",
       "  <tbody>\n",
       "    <tr>\n",
       "      <th>0</th>\n",
       "      <td>LoNDon_paris</td>\n",
       "      <td>10045</td>\n",
       "      <td>[23, 47]</td>\n",
       "      <td>KLM(!)</td>\n",
       "    </tr>\n",
       "    <tr>\n",
       "      <th>1</th>\n",
       "      <td>MAdrid_miLAN</td>\n",
       "      <td>10055</td>\n",
       "      <td>[]</td>\n",
       "      <td>&lt;Air France&gt; (12)</td>\n",
       "    </tr>\n",
       "    <tr>\n",
       "      <th>2</th>\n",
       "      <td>londON_StockhOlm</td>\n",
       "      <td>10065</td>\n",
       "      <td>[24, 43, 87]</td>\n",
       "      <td>(British Airways. )</td>\n",
       "    </tr>\n",
       "    <tr>\n",
       "      <th>3</th>\n",
       "      <td>Budapest_PaRis</td>\n",
       "      <td>10075</td>\n",
       "      <td>[13]</td>\n",
       "      <td>12. Air France</td>\n",
       "    </tr>\n",
       "    <tr>\n",
       "      <th>4</th>\n",
       "      <td>Brussels_londOn</td>\n",
       "      <td>10085</td>\n",
       "      <td>[67, 32]</td>\n",
       "      <td>\"Swiss Air\"</td>\n",
       "    </tr>\n",
       "  </tbody>\n",
       "</table>\n",
       "</div>"
      ],
      "text/plain": [
       "            From_To  FlightNumber  RecentDelays              Airline\n",
       "0      LoNDon_paris         10045      [23, 47]               KLM(!)\n",
       "1      MAdrid_miLAN         10055            []    <Air France> (12)\n",
       "2  londON_StockhOlm         10065  [24, 43, 87]  (British Airways. )\n",
       "3    Budapest_PaRis         10075          [13]       12. Air France\n",
       "4   Brussels_londOn         10085      [67, 32]          \"Swiss Air\""
      ]
     },
     "execution_count": 26,
     "metadata": {},
     "output_type": "execute_result"
    }
   ],
   "source": [
    "df['FlightNumber'] = df['FlightNumber'].interpolate().astype(int)\n",
    "df"
   ]
  },
  {
   "cell_type": "markdown",
   "metadata": {},
   "source": [
    "Problem 2:- The From_To column would be better as two separate columns! Split each string on the\n",
    "underscore delimiter _ to give a new temporary DataFrame with the correct values. Assign the\n",
    "correct column names to this temporary DataFrame."
   ]
  },
  {
   "cell_type": "code",
   "execution_count": null,
   "metadata": {},
   "outputs": [],
   "source": [
    "splitedData = df['From_To'].str.split(\"_\")\n",
    "splitedData.columns = [\"From\", \"True\"]\n",
    "splitedData"
   ]
  },
  {
   "cell_type": "markdown",
   "metadata": {},
   "source": [
    "Problem 3:- Notice how the capitalisation of the city names is all mixed up in this temporary DataFrame.\n",
    "Standardise the strings so that only the first letter is uppercase (e.g. \"londON\" should become\n",
    "\"London\".)"
   ]
  },
  {
   "cell_type": "code",
   "execution_count": null,
   "metadata": {},
   "outputs": [],
   "source": [
    "splitedData['From'] = df_temp.From.str.title()\n",
    "splitedData['To'] = df_temp.To.str.title()\n",
    "splitedData"
   ]
  },
  {
   "cell_type": "markdown",
   "metadata": {},
   "source": [
    "Problem 4:- Delete the From_To column from df and attach the temporary DataFrame from the previous\n",
    "questions."
   ]
  },
  {
   "cell_type": "code",
   "execution_count": null,
   "metadata": {},
   "outputs": [],
   "source": [
    "df.drop(['From_To'], axis=1)"
   ]
  },
  {
   "cell_type": "markdown",
   "metadata": {},
   "source": [
    "Problem 5:- In the RecentDelays column, the values have been entered into the DataFrame as a list. We\n",
    "would like each first value in its own column, each second value in its own column, and so on. If\n",
    "there isn't an Nth value, the value should be NaN."
   ]
  },
  {
   "cell_type": "code",
   "execution_count": null,
   "metadata": {},
   "outputs": [],
   "source": [
    "delayCol = pd.DataFrame(df['RecentDelays'].values.tolist(), columns=['delay_1', 'delay_2', 'delay_3'])\n",
    "delayCol"
   ]
  },
  {
   "cell_type": "code",
   "execution_count": null,
   "metadata": {},
   "outputs": [],
   "source": [
    "df.drop(['RecentDelays'], axis=1)\n",
    "df = pd.concat([df, delayCol], axis=1,join_axes=[df.index])\n",
    "df"
   ]
  },
  {
   "cell_type": "markdown",
   "metadata": {},
   "source": [
    "# 2.6. Problem Statement: Pandas SQL"
   ]
  },
  {
   "cell_type": "markdown",
   "metadata": {},
   "source": [
    "Problem statement 1:\n",
    "Read the following data set:\n",
    "https://archive.ics.uci.edu/ml/machine-learning-databases/adult/\n",
    "Rename the columns as per the description from this file:\n",
    "https://archive.ics.uci.edu/ml/machine-learning-databases/adult/adult.names\n",
    "\n",
    "Task:\n",
    "Create a sql db from adult dataset and name it sqladb"
   ]
  },
  {
   "cell_type": "code",
   "execution_count": null,
   "metadata": {},
   "outputs": [],
   "source": [
    "import csv\n",
    "import mysql-connector\n",
    "db = mysql.connector.connect(\n",
    "host=\"localhost\"\n",
    ")\n",
    "\n",
    "cursor = mydb.cursor()\n",
    "\n",
    "cursor.execute(\"CREATE DATABASE sqladb\")\n",
    "cursor.execute(\"USE sqladb\")\n",
    "\n",
    "cursor.execute(\"CREATE TABLE adultTable (age INT(2),workclass VARCHAR(255), fnlwgt INT(5), education VARCHAR(255), education-num INT(5), marital-status VARCHAR(255), occupation VARCHAR(255), relationship VARCHAR(255), race VARCHAR(255), sex VARCHAR(255), capital-gain INT(20), capital-loss INT(20), hours-per-week INT(20), native-country VARCHAR(255) )\", moreThan50K VARCHAR(255))\n",
    "\n",
    "table_data = csv.reader(file('sample.csv'))\n",
    "for row in table_data:\n",
    "  cursor.execute('INSERT INTO adultTable VALUES(\"%s\", \"%s\", \"%s\", \"%s\", \"%s\", \"%s\", \"%s\", \"%s\", \"%s\", \"%s\", \"%s\", \"%s\", \"%s\", \"%s\", \"%s\")',row)\n",
    "\n",
    "db.commit()"
   ]
  },
  {
   "cell_type": "markdown",
   "metadata": {},
   "source": [
    "Problem 1:- Select 10 records from the adult sqladb"
   ]
  },
  {
   "cell_type": "code",
   "execution_count": null,
   "metadata": {},
   "outputs": [],
   "source": [
    "cursor.execute(\"SELECT * FROM adultTable LIMIT 10\")\n",
    "myresult = cursor.fetchall()\n",
    "for x in myresult:\n",
    "print(x)"
   ]
  },
  {
   "cell_type": "markdown",
   "metadata": {},
   "source": [
    "Problem 2:- Show me the average hours per week of all men who are working in private sector"
   ]
  },
  {
   "cell_type": "code",
   "execution_count": null,
   "metadata": {},
   "outputs": [],
   "source": [
    "cursor.execute(\"SELECT AVG(hours-per-week) average-hours-per-week FROM adultTable WHERE workclass = 'Private' \")\n",
    "myresult = cursor.fetchall()\n",
    "for x in myresult:\n",
    "print(x)"
   ]
  },
  {
   "cell_type": "markdown",
   "metadata": {},
   "source": [
    "Problem 3:- Show me the frequency table for education, occupation and relationship, separately"
   ]
  },
  {
   "cell_type": "code",
   "execution_count": null,
   "metadata": {},
   "outputs": [],
   "source": [
    "cursor.execute(\"SELECT education , COUNT(education) frequency FROM adultTable GROUP BY education \")\n",
    "myresult = cursor.fetchall()\n",
    "for x in myresult:\n",
    "print(x)"
   ]
  },
  {
   "cell_type": "code",
   "execution_count": null,
   "metadata": {},
   "outputs": [],
   "source": [
    "cursor.execute(\"SELECT occupation, COUNT(occupation) frequency FROM adultTable GROUP BY occupation \")\n",
    "myresult = cursor.fetchall()\n",
    "for x in myresult:\n",
    "print(x)"
   ]
  },
  {
   "cell_type": "code",
   "execution_count": null,
   "metadata": {},
   "outputs": [],
   "source": [
    "cursor.execute(\"SELECT relationship, COUNT(relationship) frequency FROM adultTable GROUP BY relationship \")\n",
    "myresult = cursor.fetchall()\n",
    "for x in myresult:\n",
    "print(x)"
   ]
  },
  {
   "cell_type": "markdown",
   "metadata": {},
   "source": [
    "Problem 4:- Are there any people who are married, working in private sector and having a master’s\n",
    "degree"
   ]
  },
  {
   "cell_type": "code",
   "execution_count": null,
   "metadata": {},
   "outputs": [],
   "source": [
    "cursor.execute(\"SELECT IF(count > 0, 'Yes', 'No') _exist FROM ( SELECT COUNT(marital_status) count FROM adultTable WHERE marital-status IN ('Married-civ-spouse', 'Married-spouse-absent' , 'Married-AF-spouse')) alias \")\n",
    "myresult = cursor.fetchall()\n",
    "for x in myresult:\n",
    "print(x)"
   ]
  },
  {
   "cell_type": "markdown",
   "metadata": {},
   "source": [
    "Problem 5:- What is the average, minimum and maximum age group for people working in\n",
    "different sectors"
   ]
  },
  {
   "cell_type": "code",
   "execution_count": null,
   "metadata": {},
   "outputs": [],
   "source": [
    "cursor.execute(\" SELECT workclass as sector, AVG(age) averageAge, MIN(age) minAge, MAX(age) maxAge  FROM adultTable GROUP BY workclass \")\n",
    "myresult = cursor.fetchall()\n",
    "for x in myresult:\n",
    "print(x)"
   ]
  }
 ],
 "metadata": {
  "kernelspec": {
   "display_name": "Python 3",
   "language": "python",
   "name": "python3"
  },
  "language_info": {
   "codemirror_mode": {
    "name": "ipython",
    "version": 3
   },
   "file_extension": ".py",
   "mimetype": "text/x-python",
   "name": "python",
   "nbconvert_exporter": "python",
   "pygments_lexer": "ipython3",
   "version": "3.7.1"
  }
 },
 "nbformat": 4,
 "nbformat_minor": 2
}
