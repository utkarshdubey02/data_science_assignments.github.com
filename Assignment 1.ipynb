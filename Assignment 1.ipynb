{
 "cells": [
  {
   "cell_type": "markdown",
   "metadata": {},
   "source": [
    "# 2.1. Problem Statement: PYTHON 1                          "
   ]
  },
  {
   "cell_type": "markdown",
   "metadata": {},
   "source": [
    "Problem 2:- Write a program which will find all such numbers which are divisible by 7 but are not a\n",
    "multiple of 5, between 2000 and 3200 (both included). The numbers obtained should be printed\n",
    "in a comma-separated sequence on a single line."
   ]
  },
  {
   "cell_type": "code",
   "execution_count": 1,
   "metadata": {},
   "outputs": [
    {
     "name": "stdout",
     "output_type": "stream",
     "text": [
      "[2002, 2009, 2016, 2023, 2037, 2044, 2051, 2058, 2072, 2079, 2086, 2093, 2107, 2114, 2121, 2128, 2142, 2149, 2156, 2163, 2177, 2184, 2191, 2198, 2212, 2219, 2226, 2233, 2247, 2254, 2261, 2268, 2282, 2289, 2296, 2303, 2317, 2324, 2331, 2338, 2352, 2359, 2366, 2373, 2387, 2394, 2401, 2408, 2422, 2429, 2436, 2443, 2457, 2464, 2471, 2478, 2492, 2499, 2506, 2513, 2527, 2534, 2541, 2548, 2562, 2569, 2576, 2583, 2597, 2604, 2611, 2618, 2632, 2639, 2646, 2653, 2667, 2674, 2681, 2688, 2702, 2709, 2716, 2723, 2737, 2744, 2751, 2758, 2772, 2779, 2786, 2793, 2807, 2814, 2821, 2828, 2842, 2849, 2856, 2863, 2877, 2884, 2891, 2898, 2912, 2919, 2926, 2933, 2947, 2954, 2961, 2968, 2982, 2989, 2996, 3003, 3017, 3024, 3031, 3038, 3052, 3059, 3066, 3073, 3087, 3094, 3101, 3108, 3122, 3129, 3136, 3143, 3157, 3164, 3171, 3178, 3192, 3199]\n"
     ]
    }
   ],
   "source": [
    "data=list(range(2000,3201))\n",
    "output=[]\n",
    "for number in data:\n",
    "    if (number%7==0) and (not(number%5==0)) :\n",
    "                          output.append(number)\n",
    "print(output)"
   ]
  },
  {
   "cell_type": "markdown",
   "metadata": {},
   "source": [
    "Problem 3:- Write a Python program to accept the user's first and last name and then getting them\n",
    "printed in the the reverse order with a space between first name and last name."
   ]
  },
  {
   "cell_type": "code",
   "execution_count": 2,
   "metadata": {},
   "outputs": [
    {
     "name": "stdout",
     "output_type": "stream",
     "text": [
      "Enter your First and Last NameUtkarsh dubey\n",
      "hsraktU yebud\n"
     ]
    }
   ],
   "source": [
    "name= input(\"Enter your First and Last Name\")\n",
    "\n",
    "l= name.split(\" \")\n",
    "\n",
    "print(l[0][::-1]+\" \"+l[1][::-1])"
   ]
  },
  {
   "cell_type": "markdown",
   "metadata": {},
   "source": [
    "Problem 4:- Write a Python program to find the volume of a sphere with diameter 12 cm.\n",
    "Formula: V=4/3 * π * r 3"
   ]
  },
  {
   "cell_type": "code",
   "execution_count": 3,
   "metadata": {},
   "outputs": [
    {
     "name": "stdout",
     "output_type": "stream",
     "text": [
      "904.7786842338603\n"
     ]
    }
   ],
   "source": [
    "import math\n",
    "\n",
    "def calculateSphereVolume(diameter):\n",
    "    radius=diameter/2\n",
    "    return 4/3 * math.pi * radius**3\n",
    "\n",
    "print(calculateSphereVolume(12))"
   ]
  },
  {
   "cell_type": "markdown",
   "metadata": {},
   "source": [
    "# 2.2. Problem Statement: PYTHON 2"
   ]
  },
  {
   "cell_type": "markdown",
   "metadata": {},
   "source": [
    "Problem 1:- Write a program which accepts a sequence of comma-separated numbers from console and\n",
    "generate a list."
   ]
  },
  {
   "cell_type": "code",
   "execution_count": 4,
   "metadata": {},
   "outputs": [
    {
     "name": "stdout",
     "output_type": "stream",
     "text": [
      "Enter numbers seprated by comma ',' 1,2,3,4,34,55,3534,55\n",
      "['1', '2', '3', '4', '34', '55', '3534', '55']\n"
     ]
    }
   ],
   "source": [
    "def convertNumberToList(number):\n",
    "    return number.split(',')\n",
    "\n",
    "number=input(\"Enter numbers seprated by comma ',' \")\n",
    "print(convertNumberToList(number))"
   ]
  },
  {
   "cell_type": "markdown",
   "metadata": {},
   "source": [
    "Problem 2:- Create the below pattern using nested for loop in Python.\n",
    "#*\n",
    "#* *\n",
    "#* * *\n",
    "#* * * *\n",
    "#* * * * *\n",
    "#* * * *\n",
    "#* * *\n",
    "#* *\n",
    "#*"
   ]
  },
  {
   "cell_type": "code",
   "execution_count": 5,
   "metadata": {},
   "outputs": [
    {
     "name": "stdout",
     "output_type": "stream",
     "text": [
      "* \r\n",
      "* * \r\n",
      "* * * \r\n",
      "* * * * \r\n",
      "* * * * * \r\n",
      "* * * * \r\n",
      "* * * \r\n",
      "* * \r\n",
      "* \r\n",
      "\r\n"
     ]
    }
   ],
   "source": [
    "for i in range(0,5):\n",
    "    for j in range(0,i+1):\n",
    "        print(\"*\", end=' ')\n",
    "    print('\\r')\n",
    "for i in range(5,0,-1):\n",
    "    for j in range(0, i-1):\n",
    "        print(\"*\", end=' ')\n",
    "    print('\\r')"
   ]
  },
  {
   "cell_type": "markdown",
   "metadata": {},
   "source": [
    "Problem 3:- Write a Python program to reverse a word after accepting the input from the user. \n",
    " \n",
    "Sample Output: \n",
    " \n",
    "Input word: AcadGild \n",
    " \n",
    "Output: dilGdacA "
   ]
  },
  {
   "cell_type": "code",
   "execution_count": 6,
   "metadata": {},
   "outputs": [
    {
     "name": "stdout",
     "output_type": "stream",
     "text": [
      "Enter text to reverse Text to reverse\n",
      "esrever ot txeT\n"
     ]
    }
   ],
   "source": [
    "def reverseAWord(word):\n",
    "    return word[::-1]\n",
    "\n",
    "print(reverseAWord(input(\"Enter text to reverse \")))"
   ]
  },
  {
   "cell_type": "markdown",
   "metadata": {},
   "source": [
    "Problem 4:- Write a Python Program to print the given string in the format specified in the sample output:\n",
    "\n",
    "WE, THE PEOPLE OF INDIA, having solemnly resolved to constitute India into a SOVEREIGN,\n",
    "SOCIALIST, SECULAR, DEMOCRATIC REPUBLIC and to secure to all its citizens\n",
    "\n",
    "Sample Output:\n",
    "\n",
    "WE, THE PEOPLE OF INDIA,\n",
    "having solemnly resolved to constitute India into a SOVEREIGN, !\n",
    "SOCIALIST, SECULAR, DEMOCRATIC\n",
    "REPUBLIC and to secure to all its citizens"
   ]
  },
  {
   "cell_type": "code",
   "execution_count": 7,
   "metadata": {},
   "outputs": [
    {
     "name": "stdout",
     "output_type": "stream",
     "text": [
      "WE, THE PEOPLE OF INDIA,\n",
      " \t having solemnly resolved to constitute India into a SOVEREIGN,! \n",
      " \t \t SOCIALIST, SECULAR, DEMOCRATIC  \n",
      " \t\t   REPUBLIC and to secure to all its citizens\n"
     ]
    }
   ],
   "source": [
    "inputString=\"WE, THE PEOPLE OF INDIA,\\n \\t having solemnly resolved to constitute India into a SOVEREIGN,! \\n \\t \\t SOCIALIST, SECULAR, DEMOCRATIC  \\n \\t\\t   REPUBLIC and to secure to all its citizens\"\n",
    "\n",
    "print(inputString)"
   ]
  },
  {
   "cell_type": "code",
   "execution_count": 8,
   "metadata": {},
   "outputs": [
    {
     "name": "stdout",
     "output_type": "stream",
     "text": [
      "WE, THE PEOPLE OF INDIA,\n",
      "having solemnly resolved to constitute India into a SOVEREIGN,\n",
      "SOCIALIST, SECULAR, DEMOCRATIC\n",
      "REPUBLIC and to secure to all its citizens\n"
     ]
    }
   ],
   "source": [
    "#Another way to do problem 4\n",
    "\n",
    "inputString=\"WE, THE PEOPLE OF INDIA, having solemnly resolved to constitute India into a SOVEREIGN, SOCIALIST, SECULAR, DEMOCRATIC REPUBLIC and to secure to all its citizens\"\n",
    "\n",
    "#stringList= inputString.split(\",\")\n",
    "\n",
    "print(inputString[:24])\n",
    "print(inputString[25:87])\n",
    "print(inputString[88:118])\n",
    "print(inputString[119:])\n"
   ]
  },
  {
   "cell_type": "markdown",
   "metadata": {},
   "source": [
    "# 2.3. Problem Statement: PYTHON 3"
   ]
  },
  {
   "cell_type": "markdown",
   "metadata": {},
   "source": [
    "Problem 1:- Write a Python Program to implement your own myreduce() function which works exactly\n",
    "like Python's built-in function reduce()"
   ]
  },
  {
   "cell_type": "code",
   "execution_count": 9,
   "metadata": {},
   "outputs": [
    {
     "name": "stdout",
     "output_type": "stream",
     "text": [
      "13267254\n"
     ]
    },
    {
     "data": {
      "text/plain": [
       "13267254"
      ]
     },
     "execution_count": 9,
     "metadata": {},
     "output_type": "execute_result"
    }
   ],
   "source": [
    "def myreduce(function1, listOfInput):\n",
    "    listIt=iter(listOfInput)\n",
    "    value=next(listIt)\n",
    "    for element in listIt:\n",
    "        value = function1(value, element)\n",
    "    return value\n",
    "\n",
    "from functools import reduce\n",
    "lst =[47,11,42,13,47]\n",
    "\n",
    "\n",
    "print(reduce(lambda x,y: x*y,lst))\n",
    "\n",
    "myreduce(lambda x,y: x*y,lst)"
   ]
  },
  {
   "cell_type": "markdown",
   "metadata": {},
   "source": [
    "Problem 2:- Write a Python program to implement your own myfilter() function which works exactly\n",
    "like Python's built-in function filter()"
   ]
  },
  {
   "cell_type": "code",
   "execution_count": 10,
   "metadata": {},
   "outputs": [
    {
     "name": "stdout",
     "output_type": "stream",
     "text": [
      "[12, 42, 66]\n",
      "[12, 42, 66]\n",
      "['a', 'e', 'i', 'u']\n",
      "['a', 'e', 'i', 'u']\n"
     ]
    }
   ],
   "source": [
    "def myfilter(function, listOfInput):\n",
    "    outputList=list()\n",
    "    for element in listOfInput:\n",
    "        value = function(element)\n",
    "        if(value):\n",
    "            outputList.append(element)\n",
    "    return outputList\n",
    "\n",
    "lst =[47,12,42,13,47,66]\n",
    "\n",
    "#With lambda function\n",
    "\n",
    "print(list(filter(lambda x: x%2==0,lst)))\n",
    "\n",
    "print(myfilter(lambda x: x%2==0,lst))\n",
    "\n",
    "#With Funtion\n",
    "\n",
    "def fun(variable): \n",
    "    letters = ['a', 'e', 'i', 'o', 'u'] \n",
    "    if (variable in letters): \n",
    "        return True\n",
    "    else: \n",
    "        return False\n",
    "\n",
    "\n",
    "letter=[\"a\",\"t\",\"h\",\"e\",\"i\",\"r\",\"u\"]\n",
    "\n",
    "print(list(filter(fun,letter)))\n",
    "\n",
    "print(myfilter(fun,letter))"
   ]
  },
  {
   "cell_type": "markdown",
   "metadata": {},
   "source": [
    "Problem 3:- Write List comprehensions to produce the following Lists.\n",
    "['A', 'C', 'A', 'D', 'G', 'I', ’L’, ‘ D’]\n",
    "['x', 'xx', 'xxx', 'xxxx', 'y', 'yy', 'yyy', 'yyyy', 'z', 'zz', 'zzz', 'zzzz']\n",
    "['x', 'y', 'z', 'xx', 'yy', 'zz', 'xxx', 'yyy', 'zzz', 'xxxx', 'yyyy', 'zzzz']\n",
    "[[2], [3], [4], [3], [4], [5], [4], [5], [6]] [[2, 3, 4, 5], [3, 4, 5, 6], [4,\n",
    "5, 6, 7], [5, 6, 7, 8]]\n",
    "[(1, 1), (2, 1), (3, 1), (1, 2), (2, 2), (3, 2), (1, 3), (2, 3), (3, 3)]"
   ]
  },
  {
   "cell_type": "code",
   "execution_count": 11,
   "metadata": {
    "scrolled": true
   },
   "outputs": [
    {
     "name": "stdout",
     "output_type": "stream",
     "text": [
      "['A', 'C', 'A', 'D', 'G', 'I', 'L', 'D']\n",
      "['x', 'xx', 'xxx', 'xxxx', 'y', 'yy', 'yyy', 'yyyy', 'z', 'zz', 'zzz', 'zzzz']\n",
      "['x', 'xx', 'xxx', 'xxxx', 'y', 'yy', 'yyy', 'yyyy', 'z', 'zz', 'zzz', 'zzzz']\n",
      "[[2], [3], [4], [3], [4], [5], [4], [5], [6]][[2, 3, 4, 5], [3, 4, 5, 6], [4, 5, 6, 7], [5, 6, 7, 8], [6, 7, 8, 9]]\n",
      "[(1, 1), (2, 1), (3, 1), (1, 2), (2, 2), (3, 2), (1, 3), (2, 3), (3, 3)]\n"
     ]
    }
   ],
   "source": [
    "#Pattern 1\n",
    "word = \"ACADGILD\"\n",
    "outputList = [ alphabet for alphabet in word ]\n",
    "print (str(outputList))\n",
    "\n",
    "#Pattern 2\n",
    "inputList = ['x','y','z']\n",
    "outputList = [ element*num for element in inputList for num in range(1,5)  ]\n",
    "print(str(outputList))\n",
    "\n",
    "#Pattern 3\n",
    "inputList = ['x','y','z']\n",
    "result = [ element*num for num in range(1,5) for element in inputList  ]\n",
    "print(str(outputList))\n",
    "\n",
    "#Pattern 4\n",
    "inputList = [2,3,4]\n",
    "inputList1 = [2,3,4,5]\n",
    "outputList = [ [element+num] for element in inputList for num in range(0,3)]\n",
    "outputList1 = [ [element+num for element in inputList1] for num in range(0,5)  ]\n",
    "print(str(outputList)+ (str(outputList1)))\n",
    "\n",
    "#Pattern 5\n",
    "inputList=[1,2,3]\n",
    "outputList = [ (b,a) for a in inputList for b in inputList]\n",
    "print(str(outputList))\n",
    "\n"
   ]
  },
  {
   "cell_type": "code",
   "execution_count": 12,
   "metadata": {},
   "outputs": [
    {
     "name": "stdout",
     "output_type": "stream",
     "text": [
      "['A', 'C', 'A', 'D', 'G', 'I', 'L', 'D']\n",
      "['x', 'xx', 'xxx', 'xxxx', 'y', 'yy', 'yyy', 'yyyy', 'z', 'zz', 'zzz', 'zzzz']\n",
      "['x', 'y', 'z', 'xx', 'yy', 'zz', 'xxx', 'yyy', 'zzz', 'xxxx', 'yyyy', 'zzzz']\n",
      "[[2], [3], [4], [3], [4], [5], [4], [5], [6], [2, 3, 4, 5, 3, 4, 5, 6, 4, 5, 6, 7, 5, 6, 7, 8]]\n"
     ]
    }
   ],
   "source": [
    "#Using funtions \n",
    "#First Pattern\n",
    "print(list('ACADGILD'))\n",
    "\n",
    "#Second Pattern\n",
    "\n",
    "def printPattern(var):\n",
    "    listOutput=list()\n",
    "    for element in range(1,5):\n",
    "        newVar= var * element\n",
    "        listOutput.append(newVar)\n",
    "    return listOutput\n",
    "\n",
    "print(printPattern('x') + printPattern('y') + printPattern('z'))\n",
    "\n",
    "#Third pattern\n",
    "\n",
    "def printPattern2(var1, var2, var3):\n",
    "    listOutput2=list()\n",
    "    \n",
    "    for element in range(1,5):\n",
    "        newVar= var1 * element\n",
    "        listOutput2.append(newVar)\n",
    "        newVar= var2 * element\n",
    "        listOutput2.append(newVar)\n",
    "        newVar= var3 * element\n",
    "        listOutput2.append(newVar)\n",
    "    return listOutput2\n",
    "print(printPattern2('x','y','z'))\n",
    "\n",
    "#Forth pattern\n",
    "\n",
    "def printPattern3():\n",
    "    listOutput=list()\n",
    "    for first in range(2,5):\n",
    "        for second in range(0,3):\n",
    "            var= first + second\n",
    "            newList= [var]\n",
    "            listOutput.append(newList) \n",
    "    return listOutput\n",
    "\n",
    "def printPattern4():\n",
    "    listOutput1=list()\n",
    "    newList=list()\n",
    "    for first in range(2,6):\n",
    "        for second in range(0,4):\n",
    "            var= first + second\n",
    "            newList.append(var)\n",
    "    listOutput1.append(newList)\n",
    "    return listOutput1\n",
    "print(printPattern3() + printPattern4())\n"
   ]
  },
  {
   "cell_type": "markdown",
   "metadata": {},
   "source": [
    "Problem 4:- Implement a function longestWord() that takes a list of words and returns the longest one."
   ]
  },
  {
   "cell_type": "code",
   "execution_count": 28,
   "metadata": {},
   "outputs": [
    {
     "name": "stdout",
     "output_type": "stream",
     "text": [
      "Enter multiple words with space between them the best show\n",
      "best\n"
     ]
    }
   ],
   "source": [
    "def longestWord(words):\n",
    "    listOfWords=words.split()\n",
    "    count=0\n",
    "    longestWord=None\n",
    "    for element in listOfWords:\n",
    "        if(len(element) > count):\n",
    "            count=len(element)\n",
    "            longestWord = element\n",
    "    return longestWord\n",
    "\n",
    "print(longestWord(input(\"Enter multiple words with space between them \")))\n",
    "\n",
    "\n",
    "    "
   ]
  },
  {
   "cell_type": "markdown",
   "metadata": {},
   "source": [
    "# 2.4. Problem Statement: PYTHON 4"
   ]
  },
  {
   "cell_type": "markdown",
   "metadata": {},
   "source": [
    "Problem 1:- Write a Python Program(with class concepts) to find the area of the triangle using the below\n",
    "formula.\n",
    "area = (s*(s-a)*(s-b)*(s-c)) ** 0.5\n",
    "Function to take the length of the sides of triangle from user should be defined in the parent\n",
    "class and function to calculate the area should be defined in subclass."
   ]
  },
  {
   "cell_type": "code",
   "execution_count": 49,
   "metadata": {},
   "outputs": [
    {
     "name": "stdout",
     "output_type": "stream",
     "text": [
      "Enter side one length 12\n",
      "Enter side two length 12\n",
      "Enter side three length 12\n",
      "Area of triangle is  62.353829072479584\n"
     ]
    }
   ],
   "source": [
    "class ParentClass:\n",
    "    \n",
    "    \n",
    "    def takeInput(self):\n",
    "        self.sideOne = float(input(\"Enter side one length:- \"))\n",
    "        self.sideTwo = float(input(\"Enter side two length:- \"))\n",
    "        self.sideThree = float(input(\"Enter side three length:- \"))\n",
    "    \n",
    "    \n",
    "    \n",
    "    \n",
    "class SubClass(ParentClass):\n",
    "    \n",
    "    def __init__(self):\n",
    "        ParentClass.__init__(self)\n",
    "        \n",
    "    def calcHalfPeram(self):\n",
    "        s= (self.sideOne + self.sideTwo + self.sideThree) / 2\n",
    "        return s\n",
    "        \n",
    "      \n",
    "    def calcAreaOfTriangle(self):\n",
    "        ParentClass.takeInput(self)\n",
    "        s = SubClass.calcHalfPeram(self)\n",
    "        areaOfTriangle = (s*(s-self.sideOne)*(s-self.sideTwo)*(s-self.sideThree)) ** 0.5\n",
    "        return areaOfTriangle\n",
    "\n",
    "obj = SubClass()\n",
    "print(\"Area of triangle is:- \",obj.calcAreaOfTriangle())"
   ]
  },
  {
   "cell_type": "markdown",
   "metadata": {},
   "source": [
    "Problem 2:- Write a function filter_long_words() that takes a list of words and an integer n and returns\n",
    "the list of words that are longer than n."
   ]
  },
  {
   "cell_type": "code",
   "execution_count": 15,
   "metadata": {},
   "outputs": [
    {
     "name": "stdout",
     "output_type": "stream",
     "text": [
      "Enter multiple words with space between them :- ffsf fsfssdfs eweb wewewewe\n",
      "Enter count of word :- 3\n",
      "['ffsf', 'fsfssdfs', 'eweb', 'wewewewe']\n"
     ]
    }
   ],
   "source": [
    "def filter_long_words(words, greaterThan):\n",
    "    var = int(greaterThan)\n",
    "    listOfWords=words.split()\n",
    "    \n",
    "    longWordList=list()\n",
    "    for element in listOfWords:\n",
    "        if(len(element) > var):\n",
    "            longWordList.append(element)\n",
    "            \n",
    "    return longWordList\n",
    "\n",
    "print(filter_long_words(input(\"Enter multiple words with space between them :- \"),input(\"Enter count of word :- \")))\n"
   ]
  },
  {
   "cell_type": "markdown",
   "metadata": {},
   "source": [
    "Problem 3:- Write a Python program using function concept that maps list of words into a list of integers\n",
    "representing the lengths of the corresponding words.\n",
    "Hint: If a list [ab,cde,erty] is passed on to the python function output should come as [2,3,4]\n",
    "Here 2,3 and 4 are the lengths of the words in the list."
   ]
  },
  {
   "cell_type": "code",
   "execution_count": 16,
   "metadata": {},
   "outputs": [
    {
     "name": "stdout",
     "output_type": "stream",
     "text": [
      "Enter multiple words to know the word count of all the words :- dadasda ddd e fgf\n",
      "[7, 3, 1, 3]\n",
      "Enter multiple words to know the word count of all the words :- we gffg rrr\n",
      "[2, 4, 3]\n"
     ]
    }
   ],
   "source": [
    "#Using Lambda  \n",
    "\n",
    "print(list(map(lambda x: len(x) , (input(\"Enter multiple words to know the word count of all the words :- \")).split())))\n",
    "\n",
    "#Using funtion\n",
    "\n",
    "def findWordCount(words):\n",
    "    listOfWords= words.split()\n",
    "    outputList=list()\n",
    "    for element in listOfWords:\n",
    "        outputList.append(len(element))\n",
    "    return outputList\n",
    "\n",
    "print(findWordCount(input(\"Enter multiple words to know the word count of all the words :- \")))"
   ]
  },
  {
   "cell_type": "markdown",
   "metadata": {},
   "source": [
    "Problem 4:- Write a Python function which takes a character (i.e. a string of length 1) and returns True if\n",
    "it is a vowel, False otherwise."
   ]
  },
  {
   "cell_type": "code",
   "execution_count": 17,
   "metadata": {},
   "outputs": [
    {
     "name": "stdout",
     "output_type": "stream",
     "text": [
      "Enter one character only :- e\n",
      "Character you enter is a Vowel 'True'\n"
     ]
    }
   ],
   "source": [
    "def fun(variable): \n",
    "    letters = ['a', 'e', 'i', 'o', 'u'] \n",
    "    if (variable in letters): \n",
    "        return True\n",
    "    else: \n",
    "        return False\n",
    "    \n",
    "def takeInput():\n",
    "    while True :\n",
    "        var=input(\"Enter one character only :- \")\n",
    "        if(len(var) is 1):\n",
    "            break\n",
    "    print(\"Character you enter is a Vowel '{}'\".format(fun(var)))\n",
    "    \n",
    "takeInput()"
   ]
  },
  {
   "cell_type": "markdown",
   "metadata": {},
   "source": [
    "# 2.5. Problem Statement: PYTHON 5"
   ]
  },
  {
   "cell_type": "markdown",
   "metadata": {},
   "source": [
    "Problem 1:- Write a function to compute 5/0 and use try/except to catch the exceptions."
   ]
  },
  {
   "cell_type": "code",
   "execution_count": 18,
   "metadata": {},
   "outputs": [
    {
     "name": "stdout",
     "output_type": "stream",
     "text": [
      "Enter the number you want to divide  - 232\n",
      "Enter the number you want to divide with - 0\n",
      "Dont divide any number by zero\n",
      "Enter the number you want to divide  - 23\n",
      "Enter the number you want to divide with - 4\n",
      "Divition of your numbers is :- 5.75\n"
     ]
    }
   ],
   "source": [
    "def divideNumbers():\n",
    "    \n",
    "    while True:\n",
    "        try:\n",
    "            x= int(input(\"Enter the number you want to divide  - \"))\n",
    "            y = int(input(\"Enter the number you want to divide with - \"))\n",
    "            divition= x / y\n",
    "        except ArithmeticError:\n",
    "            print(\"Dont divide any number by zero\")\n",
    "            continue\n",
    "        except:\n",
    "            print(\"Somthing went wroung, Please check if you are entering correct input\")\n",
    "        else:\n",
    "            print(\"Divition of your numbers is :- {}\".format(divition))\n",
    "            break\n",
    "            \n",
    "divideNumbers()"
   ]
  },
  {
   "cell_type": "markdown",
   "metadata": {},
   "source": [
    "Problem 2:- Implement a Python program to generate all sentences where subject is in [\"Americans\",\n",
    "\"Indians\"] and verb is in [\"Play\", \"watch\"] and the object is in [\"Baseball\",\"cricket\"].\n",
    "\n",
    "Hint: Subject,Verb and Object should be declared in the program as shown below.\n",
    "\n",
    "subjects=[\"Americans \",\"Indians\"]\n",
    "verbs=[\"play\",\"watch\"]\n",
    "objects=[\"Baseball\",\"Cricket\"]\n",
    "\n",
    "Output should come as below:\n",
    "\n",
    "Americans play Baseball.\n",
    "Americans play Cricket.\n",
    "Americans watch Baseball.\n",
    "Americans watch Cricket.\n",
    "Indians play Baseball.\n",
    "Indians play Cricket.\n",
    "Indians watch Baseball.\n",
    "Indians watch Cricket."
   ]
  },
  {
   "cell_type": "code",
   "execution_count": 19,
   "metadata": {},
   "outputs": [
    {
     "name": "stdout",
     "output_type": "stream",
     "text": [
      "Americans  play Baseball\n",
      "Americans  play Cricket\n",
      "Americans  watch Baseball\n",
      "Americans  watch Cricket\n",
      "Indians play Baseball\n",
      "Indians play Cricket\n",
      "Indians watch Baseball\n",
      "Indians watch Cricket\n"
     ]
    }
   ],
   "source": [
    "def func():\n",
    "    subjects=[\"Americans \",\"Indians\"]\n",
    "    verbs=[\"play\",\"watch\"]\n",
    "    objects=[\"Baseball\",\"Cricket\"]\n",
    "    \n",
    "    for firstLoop in subjects:\n",
    "        for secondLoop in verbs:\n",
    "            for thirdLoop in objects:\n",
    "                print(firstLoop+\" \"+secondLoop+\" \"+thirdLoop)\n",
    "func()"
   ]
  }
 ],
 "metadata": {
  "kernelspec": {
   "display_name": "Python 3",
   "language": "python",
   "name": "python3"
  },
  "language_info": {
   "codemirror_mode": {
    "name": "ipython",
    "version": 3
   },
   "file_extension": ".py",
   "mimetype": "text/x-python",
   "name": "python",
   "nbconvert_exporter": "python",
   "pygments_lexer": "ipython3",
   "version": "3.7.1"
  }
 },
 "nbformat": 4,
 "nbformat_minor": 2
}
